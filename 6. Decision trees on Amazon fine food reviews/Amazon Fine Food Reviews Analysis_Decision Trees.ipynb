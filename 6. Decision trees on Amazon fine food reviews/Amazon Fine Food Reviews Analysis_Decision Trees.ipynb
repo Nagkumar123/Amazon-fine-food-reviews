{
 "cells": [
  {
   "cell_type": "markdown",
   "metadata": {
    "colab_type": "text",
    "id": "IXmtUCbYiWM3"
   },
   "source": [
    "# Amazon Fine Food Reviews Analysis\n",
    "\n",
    "\n",
    "Data Source: https://www.kaggle.com/snap/amazon-fine-food-reviews <br>\n",
    "\n",
    "EDA: https://nycdatascience.com/blog/student-works/amazon-fine-foods-visualization/\n",
    "\n",
    "\n",
    "The Amazon Fine Food Reviews dataset consists of reviews of fine foods from Amazon.<br>\n",
    "\n",
    "Number of reviews: 568,454<br>\n",
    "Number of users: 256,059<br>\n",
    "Number of products: 74,258<br>\n",
    "Timespan: Oct 1999 - Oct 2012<br>\n",
    "Number of Attributes/Columns in data: 10 \n",
    "\n",
    "Attribute Information:\n",
    "\n",
    "1. Id\n",
    "2. ProductId - unique identifier for the product\n",
    "3. UserId - unqiue identifier for the user\n",
    "4. ProfileName\n",
    "5. HelpfulnessNumerator - number of users who found the review helpful\n",
    "6. HelpfulnessDenominator - number of users who indicated whether they found the review helpful or not\n",
    "7. Score - rating between 1 and 5\n",
    "8. Time - timestamp for the review\n",
    "9. Summary - brief summary of the review\n",
    "10. Text - text of the review\n",
    "\n",
    "\n",
    "#### Objective:\n",
    "Given a review, determine whether the review is positive (rating of 4 or 5) or negative (rating of 1 or 2).\n",
    "\n",
    "<br>\n",
    "[Q] How to determine if a review is positive or negative?<br>\n",
    "<br> \n",
    "[Ans] We could use Score/Rating. A rating of 4 or 5 can be cosnidered as a positive review. A rating of 1 or 2 can be considered as negative one. A review of rating 3 is considered nuetral and such reviews are ignored from our analysis. This is an approximate and proxy way of determining the polarity (positivity/negativity) of a review.\n",
    "\n",
    "\n"
   ]
  },
  {
   "cell_type": "markdown",
   "metadata": {
    "colab_type": "text",
    "id": "syeYHDR_iWM7"
   },
   "source": [
    "# [1]. Reading Data"
   ]
  },
  {
   "cell_type": "markdown",
   "metadata": {
    "colab_type": "text",
    "id": "D_eZrQC0iWM9"
   },
   "source": [
    "## [1.1] Loading the data\n",
    "\n",
    "The dataset is available in two forms\n",
    "1. .csv file\n",
    "2. SQLite Database\n",
    "\n",
    "In order to load the data, We have used the SQLITE dataset as it is easier to query the data and visualise the data efficiently.\n",
    "<br> \n",
    "\n",
    "Here as we only want to get the global sentiment of the recommendations (positive or negative), we will purposefully ignore all Scores equal to 3. If the score is above 3, then the recommendation wil be set to \"positive\". Otherwise, it will be set to \"negative\"."
   ]
  },
  {
   "cell_type": "code",
   "execution_count": 2,
   "metadata": {
    "colab": {},
    "colab_type": "code",
    "id": "53fLFqf8iWNA"
   },
   "outputs": [],
   "source": [
    "%matplotlib inline\n",
    "import warnings\n",
    "warnings.filterwarnings(\"ignore\")\n",
    "\n",
    "\n",
    "import sqlite3\n",
    "import pandas as pd\n",
    "import numpy as np\n",
    "import nltk\n",
    "import string\n",
    "import matplotlib.pyplot as plt\n",
    "import seaborn as sns\n",
    "from sklearn.feature_extraction.text import TfidfTransformer\n",
    "from sklearn.feature_extraction.text import TfidfVectorizer\n",
    "\n",
    "from sklearn.feature_extraction.text import CountVectorizer\n",
    "from sklearn.metrics import confusion_matrix\n",
    "from sklearn import metrics\n",
    "from sklearn.metrics import roc_curve, auc\n",
    "from nltk.stem.porter import PorterStemmer\n",
    "\n",
    "import re\n",
    "# Tutorial about Python regular expressions: https://pymotw.com/2/re/\n",
    "import string\n",
    "from nltk.corpus import stopwords\n",
    "from nltk.stem import PorterStemmer\n",
    "from nltk.stem.wordnet import WordNetLemmatizer\n",
    "\n",
    "from gensim.models import Word2Vec\n",
    "from gensim.models import KeyedVectors\n",
    "import pickle\n",
    "\n",
    "from tqdm import tqdm\n",
    "import os"
   ]
  },
  {
   "cell_type": "code",
   "execution_count": 3,
   "metadata": {
    "colab": {},
    "colab_type": "code",
    "id": "j3kshrC-iWNI",
    "outputId": "07826916-2c3f-4a0a-e928-ddbc6d567a11"
   },
   "outputs": [
    {
     "name": "stdout",
     "output_type": "stream",
     "text": [
      "Number of data points in our data (100000, 10)\n"
     ]
    },
    {
     "data": {
      "text/html": [
       "<div>\n",
       "<style scoped>\n",
       "    .dataframe tbody tr th:only-of-type {\n",
       "        vertical-align: middle;\n",
       "    }\n",
       "\n",
       "    .dataframe tbody tr th {\n",
       "        vertical-align: top;\n",
       "    }\n",
       "\n",
       "    .dataframe thead th {\n",
       "        text-align: right;\n",
       "    }\n",
       "</style>\n",
       "<table border=\"1\" class=\"dataframe\">\n",
       "  <thead>\n",
       "    <tr style=\"text-align: right;\">\n",
       "      <th></th>\n",
       "      <th>Id</th>\n",
       "      <th>ProductId</th>\n",
       "      <th>UserId</th>\n",
       "      <th>ProfileName</th>\n",
       "      <th>HelpfulnessNumerator</th>\n",
       "      <th>HelpfulnessDenominator</th>\n",
       "      <th>Score</th>\n",
       "      <th>Time</th>\n",
       "      <th>Summary</th>\n",
       "      <th>Text</th>\n",
       "    </tr>\n",
       "  </thead>\n",
       "  <tbody>\n",
       "    <tr>\n",
       "      <th>0</th>\n",
       "      <td>1</td>\n",
       "      <td>B001E4KFG0</td>\n",
       "      <td>A3SGXH7AUHU8GW</td>\n",
       "      <td>delmartian</td>\n",
       "      <td>1</td>\n",
       "      <td>1</td>\n",
       "      <td>1</td>\n",
       "      <td>1303862400</td>\n",
       "      <td>Good Quality Dog Food</td>\n",
       "      <td>I have bought several of the Vitality canned d...</td>\n",
       "    </tr>\n",
       "    <tr>\n",
       "      <th>1</th>\n",
       "      <td>2</td>\n",
       "      <td>B00813GRG4</td>\n",
       "      <td>A1D87F6ZCVE5NK</td>\n",
       "      <td>dll pa</td>\n",
       "      <td>0</td>\n",
       "      <td>0</td>\n",
       "      <td>0</td>\n",
       "      <td>1346976000</td>\n",
       "      <td>Not as Advertised</td>\n",
       "      <td>Product arrived labeled as Jumbo Salted Peanut...</td>\n",
       "    </tr>\n",
       "    <tr>\n",
       "      <th>2</th>\n",
       "      <td>3</td>\n",
       "      <td>B000LQOCH0</td>\n",
       "      <td>ABXLMWJIXXAIN</td>\n",
       "      <td>Natalia Corres \"Natalia Corres\"</td>\n",
       "      <td>1</td>\n",
       "      <td>1</td>\n",
       "      <td>1</td>\n",
       "      <td>1219017600</td>\n",
       "      <td>\"Delight\" says it all</td>\n",
       "      <td>This is a confection that has been around a fe...</td>\n",
       "    </tr>\n",
       "  </tbody>\n",
       "</table>\n",
       "</div>"
      ],
      "text/plain": [
       "   Id   ProductId          UserId                      ProfileName  \\\n",
       "0   1  B001E4KFG0  A3SGXH7AUHU8GW                       delmartian   \n",
       "1   2  B00813GRG4  A1D87F6ZCVE5NK                           dll pa   \n",
       "2   3  B000LQOCH0   ABXLMWJIXXAIN  Natalia Corres \"Natalia Corres\"   \n",
       "\n",
       "   HelpfulnessNumerator  HelpfulnessDenominator  Score        Time  \\\n",
       "0                     1                       1      1  1303862400   \n",
       "1                     0                       0      0  1346976000   \n",
       "2                     1                       1      1  1219017600   \n",
       "\n",
       "                 Summary                                               Text  \n",
       "0  Good Quality Dog Food  I have bought several of the Vitality canned d...  \n",
       "1      Not as Advertised  Product arrived labeled as Jumbo Salted Peanut...  \n",
       "2  \"Delight\" says it all  This is a confection that has been around a fe...  "
      ]
     },
     "execution_count": 3,
     "metadata": {},
     "output_type": "execute_result"
    }
   ],
   "source": [
    "# using SQLite Table to read data.\n",
    "con = sqlite3.connect('C:/ML/amazon-fine-food-reviews/database.sqlite') \n",
    "\n",
    "# filtering only positive and negative reviews i.e. \n",
    "# not taking into consideration those reviews with Score=3\n",
    "# SELECT * FROM Reviews WHERE Score != 3 LIMIT 500000, will give top 500000 data points\n",
    "# you can change the number to any other number based on your computing power\n",
    "\n",
    "# filtered_data = pd.read_sql_query(\"\"\" SELECT * FROM Reviews WHERE Score != 3 LIMIT 500000\"\"\", con) \n",
    "# for tsne assignment you can take 5k data points\n",
    "\n",
    "filtered_data = pd.read_sql_query(\"\"\" SELECT * FROM Reviews WHERE Score != 3 LIMIT 100000\"\"\", con) \n",
    "\n",
    "# Give reviews with Score>3 a positive rating(1), and reviews with a score<3 a negative rating(0).\n",
    "def partition(x):\n",
    "    if x < 3:\n",
    "        return 0\n",
    "    return 1\n",
    "\n",
    "#changing reviews with score less than 3 to be positive and vice-versa\n",
    "actualScore = filtered_data['Score']\n",
    "positiveNegative = actualScore.map(partition) \n",
    "filtered_data['Score'] = positiveNegative\n",
    "print(\"Number of data points in our data\", filtered_data.shape)\n",
    "filtered_data.head(3)"
   ]
  },
  {
   "cell_type": "code",
   "execution_count": 4,
   "metadata": {
    "colab": {},
    "colab_type": "code",
    "id": "-7Iy8yWfiWNR"
   },
   "outputs": [],
   "source": [
    "display = pd.read_sql_query(\"\"\"\n",
    "SELECT UserId, ProductId, ProfileName, Time, Score, Text, COUNT(*)\n",
    "FROM Reviews\n",
    "GROUP BY UserId\n",
    "HAVING COUNT(*)>1\n",
    "\"\"\", con)"
   ]
  },
  {
   "cell_type": "code",
   "execution_count": 5,
   "metadata": {
    "colab": {},
    "colab_type": "code",
    "id": "wuK6OYpOiWNV",
    "outputId": "5cb5082e-47b9-4d4b-cf90-fc6ffe0dceeb",
    "scrolled": true
   },
   "outputs": [
    {
     "name": "stdout",
     "output_type": "stream",
     "text": [
      "(80668, 7)\n"
     ]
    },
    {
     "data": {
      "text/html": [
       "<div>\n",
       "<style scoped>\n",
       "    .dataframe tbody tr th:only-of-type {\n",
       "        vertical-align: middle;\n",
       "    }\n",
       "\n",
       "    .dataframe tbody tr th {\n",
       "        vertical-align: top;\n",
       "    }\n",
       "\n",
       "    .dataframe thead th {\n",
       "        text-align: right;\n",
       "    }\n",
       "</style>\n",
       "<table border=\"1\" class=\"dataframe\">\n",
       "  <thead>\n",
       "    <tr style=\"text-align: right;\">\n",
       "      <th></th>\n",
       "      <th>UserId</th>\n",
       "      <th>ProductId</th>\n",
       "      <th>ProfileName</th>\n",
       "      <th>Time</th>\n",
       "      <th>Score</th>\n",
       "      <th>Text</th>\n",
       "      <th>COUNT(*)</th>\n",
       "    </tr>\n",
       "  </thead>\n",
       "  <tbody>\n",
       "    <tr>\n",
       "      <th>0</th>\n",
       "      <td>#oc-R115TNMSPFT9I7</td>\n",
       "      <td>B005ZBZLT4</td>\n",
       "      <td>Breyton</td>\n",
       "      <td>1331510400</td>\n",
       "      <td>2</td>\n",
       "      <td>Overall its just OK when considering the price...</td>\n",
       "      <td>2</td>\n",
       "    </tr>\n",
       "    <tr>\n",
       "      <th>1</th>\n",
       "      <td>#oc-R11D9D7SHXIJB9</td>\n",
       "      <td>B005HG9ESG</td>\n",
       "      <td>Louis E. Emory \"hoppy\"</td>\n",
       "      <td>1342396800</td>\n",
       "      <td>5</td>\n",
       "      <td>My wife has recurring extreme muscle spasms, u...</td>\n",
       "      <td>3</td>\n",
       "    </tr>\n",
       "    <tr>\n",
       "      <th>2</th>\n",
       "      <td>#oc-R11DNU2NBKQ23Z</td>\n",
       "      <td>B005ZBZLT4</td>\n",
       "      <td>Kim Cieszykowski</td>\n",
       "      <td>1348531200</td>\n",
       "      <td>1</td>\n",
       "      <td>This coffee is horrible and unfortunately not ...</td>\n",
       "      <td>2</td>\n",
       "    </tr>\n",
       "    <tr>\n",
       "      <th>3</th>\n",
       "      <td>#oc-R11O5J5ZVQE25C</td>\n",
       "      <td>B005HG9ESG</td>\n",
       "      <td>Penguin Chick</td>\n",
       "      <td>1346889600</td>\n",
       "      <td>5</td>\n",
       "      <td>This will be the bottle that you grab from the...</td>\n",
       "      <td>3</td>\n",
       "    </tr>\n",
       "    <tr>\n",
       "      <th>4</th>\n",
       "      <td>#oc-R12KPBODL2B5ZD</td>\n",
       "      <td>B007OSBEV0</td>\n",
       "      <td>Christopher P. Presta</td>\n",
       "      <td>1348617600</td>\n",
       "      <td>1</td>\n",
       "      <td>I didnt like this coffee. Instead of telling y...</td>\n",
       "      <td>2</td>\n",
       "    </tr>\n",
       "  </tbody>\n",
       "</table>\n",
       "</div>"
      ],
      "text/plain": [
       "               UserId   ProductId             ProfileName        Time  Score  \\\n",
       "0  #oc-R115TNMSPFT9I7  B005ZBZLT4                 Breyton  1331510400      2   \n",
       "1  #oc-R11D9D7SHXIJB9  B005HG9ESG  Louis E. Emory \"hoppy\"  1342396800      5   \n",
       "2  #oc-R11DNU2NBKQ23Z  B005ZBZLT4        Kim Cieszykowski  1348531200      1   \n",
       "3  #oc-R11O5J5ZVQE25C  B005HG9ESG           Penguin Chick  1346889600      5   \n",
       "4  #oc-R12KPBODL2B5ZD  B007OSBEV0   Christopher P. Presta  1348617600      1   \n",
       "\n",
       "                                                Text  COUNT(*)  \n",
       "0  Overall its just OK when considering the price...         2  \n",
       "1  My wife has recurring extreme muscle spasms, u...         3  \n",
       "2  This coffee is horrible and unfortunately not ...         2  \n",
       "3  This will be the bottle that you grab from the...         3  \n",
       "4  I didnt like this coffee. Instead of telling y...         2  "
      ]
     },
     "execution_count": 5,
     "metadata": {},
     "output_type": "execute_result"
    }
   ],
   "source": [
    "print(display.shape)\n",
    "display.head()"
   ]
  },
  {
   "cell_type": "code",
   "execution_count": 6,
   "metadata": {
    "colab": {},
    "colab_type": "code",
    "id": "OMKVKkH7iWNZ",
    "outputId": "acc9d31a-27a1-48a1-d2f2-ce1f2e511793"
   },
   "outputs": [
    {
     "data": {
      "text/html": [
       "<div>\n",
       "<style scoped>\n",
       "    .dataframe tbody tr th:only-of-type {\n",
       "        vertical-align: middle;\n",
       "    }\n",
       "\n",
       "    .dataframe tbody tr th {\n",
       "        vertical-align: top;\n",
       "    }\n",
       "\n",
       "    .dataframe thead th {\n",
       "        text-align: right;\n",
       "    }\n",
       "</style>\n",
       "<table border=\"1\" class=\"dataframe\">\n",
       "  <thead>\n",
       "    <tr style=\"text-align: right;\">\n",
       "      <th></th>\n",
       "      <th>UserId</th>\n",
       "      <th>ProductId</th>\n",
       "      <th>ProfileName</th>\n",
       "      <th>Time</th>\n",
       "      <th>Score</th>\n",
       "      <th>Text</th>\n",
       "      <th>COUNT(*)</th>\n",
       "    </tr>\n",
       "  </thead>\n",
       "  <tbody>\n",
       "    <tr>\n",
       "      <th>80638</th>\n",
       "      <td>AZY10LLTJ71NX</td>\n",
       "      <td>B001ATMQK2</td>\n",
       "      <td>undertheshrine \"undertheshrine\"</td>\n",
       "      <td>1296691200</td>\n",
       "      <td>5</td>\n",
       "      <td>I bought this 6 pack because for the price tha...</td>\n",
       "      <td>5</td>\n",
       "    </tr>\n",
       "  </tbody>\n",
       "</table>\n",
       "</div>"
      ],
      "text/plain": [
       "              UserId   ProductId                      ProfileName        Time  \\\n",
       "80638  AZY10LLTJ71NX  B001ATMQK2  undertheshrine \"undertheshrine\"  1296691200   \n",
       "\n",
       "       Score                                               Text  COUNT(*)  \n",
       "80638      5  I bought this 6 pack because for the price tha...         5  "
      ]
     },
     "execution_count": 6,
     "metadata": {},
     "output_type": "execute_result"
    }
   ],
   "source": [
    "display[display['UserId']=='AZY10LLTJ71NX']"
   ]
  },
  {
   "cell_type": "code",
   "execution_count": 7,
   "metadata": {
    "colab": {},
    "colab_type": "code",
    "id": "s37uqS_jiWNe",
    "outputId": "489f08d4-48a2-4e82-bfc1-4f982f35b2e4"
   },
   "outputs": [
    {
     "data": {
      "text/plain": [
       "393063"
      ]
     },
     "execution_count": 7,
     "metadata": {},
     "output_type": "execute_result"
    }
   ],
   "source": [
    "display['COUNT(*)'].sum()"
   ]
  },
  {
   "cell_type": "markdown",
   "metadata": {
    "colab_type": "text",
    "id": "efnNNqNfiWNh"
   },
   "source": [
    "#  [2] Exploratory Data Analysis"
   ]
  },
  {
   "cell_type": "markdown",
   "metadata": {
    "colab_type": "text",
    "id": "Eq0hnbxhiWNi"
   },
   "source": [
    "## [2.1] Data Cleaning: Deduplication\n",
    "\n",
    "It is observed (as shown in the table below) that the reviews data had many duplicate entries. Hence it was necessary to remove duplicates in order to get unbiased results for the analysis of the data.  Following is an example:"
   ]
  },
  {
   "cell_type": "code",
   "execution_count": 8,
   "metadata": {
    "colab": {},
    "colab_type": "code",
    "id": "3CKLJ2FFiWNj",
    "outputId": "c995e0c8-7ef1-48a0-d7a9-b0cc50efaa83",
    "scrolled": false
   },
   "outputs": [
    {
     "data": {
      "text/html": [
       "<div>\n",
       "<style scoped>\n",
       "    .dataframe tbody tr th:only-of-type {\n",
       "        vertical-align: middle;\n",
       "    }\n",
       "\n",
       "    .dataframe tbody tr th {\n",
       "        vertical-align: top;\n",
       "    }\n",
       "\n",
       "    .dataframe thead th {\n",
       "        text-align: right;\n",
       "    }\n",
       "</style>\n",
       "<table border=\"1\" class=\"dataframe\">\n",
       "  <thead>\n",
       "    <tr style=\"text-align: right;\">\n",
       "      <th></th>\n",
       "      <th>Id</th>\n",
       "      <th>ProductId</th>\n",
       "      <th>UserId</th>\n",
       "      <th>ProfileName</th>\n",
       "      <th>HelpfulnessNumerator</th>\n",
       "      <th>HelpfulnessDenominator</th>\n",
       "      <th>Score</th>\n",
       "      <th>Time</th>\n",
       "      <th>Summary</th>\n",
       "      <th>Text</th>\n",
       "    </tr>\n",
       "  </thead>\n",
       "  <tbody>\n",
       "    <tr>\n",
       "      <th>0</th>\n",
       "      <td>78445</td>\n",
       "      <td>B000HDL1RQ</td>\n",
       "      <td>AR5J8UI46CURR</td>\n",
       "      <td>Geetha Krishnan</td>\n",
       "      <td>2</td>\n",
       "      <td>2</td>\n",
       "      <td>5</td>\n",
       "      <td>1199577600</td>\n",
       "      <td>LOACKER QUADRATINI VANILLA WAFERS</td>\n",
       "      <td>DELICIOUS WAFERS. I FIND THAT EUROPEAN WAFERS ...</td>\n",
       "    </tr>\n",
       "    <tr>\n",
       "      <th>1</th>\n",
       "      <td>138317</td>\n",
       "      <td>B000HDOPYC</td>\n",
       "      <td>AR5J8UI46CURR</td>\n",
       "      <td>Geetha Krishnan</td>\n",
       "      <td>2</td>\n",
       "      <td>2</td>\n",
       "      <td>5</td>\n",
       "      <td>1199577600</td>\n",
       "      <td>LOACKER QUADRATINI VANILLA WAFERS</td>\n",
       "      <td>DELICIOUS WAFERS. I FIND THAT EUROPEAN WAFERS ...</td>\n",
       "    </tr>\n",
       "    <tr>\n",
       "      <th>2</th>\n",
       "      <td>138277</td>\n",
       "      <td>B000HDOPYM</td>\n",
       "      <td>AR5J8UI46CURR</td>\n",
       "      <td>Geetha Krishnan</td>\n",
       "      <td>2</td>\n",
       "      <td>2</td>\n",
       "      <td>5</td>\n",
       "      <td>1199577600</td>\n",
       "      <td>LOACKER QUADRATINI VANILLA WAFERS</td>\n",
       "      <td>DELICIOUS WAFERS. I FIND THAT EUROPEAN WAFERS ...</td>\n",
       "    </tr>\n",
       "    <tr>\n",
       "      <th>3</th>\n",
       "      <td>73791</td>\n",
       "      <td>B000HDOPZG</td>\n",
       "      <td>AR5J8UI46CURR</td>\n",
       "      <td>Geetha Krishnan</td>\n",
       "      <td>2</td>\n",
       "      <td>2</td>\n",
       "      <td>5</td>\n",
       "      <td>1199577600</td>\n",
       "      <td>LOACKER QUADRATINI VANILLA WAFERS</td>\n",
       "      <td>DELICIOUS WAFERS. I FIND THAT EUROPEAN WAFERS ...</td>\n",
       "    </tr>\n",
       "    <tr>\n",
       "      <th>4</th>\n",
       "      <td>155049</td>\n",
       "      <td>B000PAQ75C</td>\n",
       "      <td>AR5J8UI46CURR</td>\n",
       "      <td>Geetha Krishnan</td>\n",
       "      <td>2</td>\n",
       "      <td>2</td>\n",
       "      <td>5</td>\n",
       "      <td>1199577600</td>\n",
       "      <td>LOACKER QUADRATINI VANILLA WAFERS</td>\n",
       "      <td>DELICIOUS WAFERS. I FIND THAT EUROPEAN WAFERS ...</td>\n",
       "    </tr>\n",
       "  </tbody>\n",
       "</table>\n",
       "</div>"
      ],
      "text/plain": [
       "       Id   ProductId         UserId      ProfileName  HelpfulnessNumerator  \\\n",
       "0   78445  B000HDL1RQ  AR5J8UI46CURR  Geetha Krishnan                     2   \n",
       "1  138317  B000HDOPYC  AR5J8UI46CURR  Geetha Krishnan                     2   \n",
       "2  138277  B000HDOPYM  AR5J8UI46CURR  Geetha Krishnan                     2   \n",
       "3   73791  B000HDOPZG  AR5J8UI46CURR  Geetha Krishnan                     2   \n",
       "4  155049  B000PAQ75C  AR5J8UI46CURR  Geetha Krishnan                     2   \n",
       "\n",
       "   HelpfulnessDenominator  Score        Time  \\\n",
       "0                       2      5  1199577600   \n",
       "1                       2      5  1199577600   \n",
       "2                       2      5  1199577600   \n",
       "3                       2      5  1199577600   \n",
       "4                       2      5  1199577600   \n",
       "\n",
       "                             Summary  \\\n",
       "0  LOACKER QUADRATINI VANILLA WAFERS   \n",
       "1  LOACKER QUADRATINI VANILLA WAFERS   \n",
       "2  LOACKER QUADRATINI VANILLA WAFERS   \n",
       "3  LOACKER QUADRATINI VANILLA WAFERS   \n",
       "4  LOACKER QUADRATINI VANILLA WAFERS   \n",
       "\n",
       "                                                Text  \n",
       "0  DELICIOUS WAFERS. I FIND THAT EUROPEAN WAFERS ...  \n",
       "1  DELICIOUS WAFERS. I FIND THAT EUROPEAN WAFERS ...  \n",
       "2  DELICIOUS WAFERS. I FIND THAT EUROPEAN WAFERS ...  \n",
       "3  DELICIOUS WAFERS. I FIND THAT EUROPEAN WAFERS ...  \n",
       "4  DELICIOUS WAFERS. I FIND THAT EUROPEAN WAFERS ...  "
      ]
     },
     "execution_count": 8,
     "metadata": {},
     "output_type": "execute_result"
    }
   ],
   "source": [
    "display= pd.read_sql_query(\"\"\"\n",
    "SELECT *\n",
    "FROM Reviews\n",
    "WHERE Score != 3 AND UserId=\"AR5J8UI46CURR\"\n",
    "ORDER BY ProductID\n",
    "\"\"\", con)\n",
    "display.head()"
   ]
  },
  {
   "cell_type": "markdown",
   "metadata": {
    "colab_type": "text",
    "id": "GmHe67iviWNn"
   },
   "source": [
    "As it can be seen above that same user has multiple reviews with same values for HelpfulnessNumerator, HelpfulnessDenominator, Score, Time, Summary and Text and on doing analysis it was found that <br>\n",
    "<br> \n",
    "ProductId=B000HDOPZG was Loacker Quadratini Vanilla Wafer Cookies, 8.82-Ounce Packages (Pack of 8)<br>\n",
    "<br> \n",
    "ProductId=B000HDL1RQ was Loacker Quadratini Lemon Wafer Cookies, 8.82-Ounce Packages (Pack of 8) and so on<br>\n",
    "\n",
    "It was inferred after analysis that reviews with same parameters other than ProductId belonged to the same product just having different flavour or quantity. Hence in order to reduce redundancy it was decided to eliminate the rows having same parameters.<br>\n",
    "\n",
    "The method used for the same was that we first sort the data according to ProductId and then just keep the first similar product review and delelte the others. for eg. in the above just the review for ProductId=B000HDL1RQ remains. This method ensures that there is only one representative for each product and deduplication without sorting would lead to possibility of different representatives still existing for the same product."
   ]
  },
  {
   "cell_type": "code",
   "execution_count": 9,
   "metadata": {
    "colab": {},
    "colab_type": "code",
    "id": "wgmdXIJviWNn"
   },
   "outputs": [],
   "source": [
    "#Sorting data according to ProductId in ascending order\n",
    "sorted_data=filtered_data.sort_values('ProductId', axis=0, ascending=True, inplace=False, kind='quicksort', na_position='last')"
   ]
  },
  {
   "cell_type": "code",
   "execution_count": 10,
   "metadata": {
    "colab": {},
    "colab_type": "code",
    "id": "ComjQ0rHiWNp",
    "outputId": "1c155404-4bb7-4078-c46b-1a9a33ac0602"
   },
   "outputs": [
    {
     "data": {
      "text/plain": [
       "(87775, 10)"
      ]
     },
     "execution_count": 10,
     "metadata": {},
     "output_type": "execute_result"
    }
   ],
   "source": [
    "#Deduplication of entries\n",
    "final=sorted_data.drop_duplicates(subset={\"UserId\",\"ProfileName\",\"Time\",\"Text\"}, keep='first', inplace=False)\n",
    "final.shape"
   ]
  },
  {
   "cell_type": "code",
   "execution_count": 11,
   "metadata": {
    "colab": {},
    "colab_type": "code",
    "id": "yFrWiU23iWNt",
    "outputId": "b9d26952-d8af-4fbb-eb3d-c6a28abcc029"
   },
   "outputs": [
    {
     "data": {
      "text/plain": [
       "87.775"
      ]
     },
     "execution_count": 11,
     "metadata": {},
     "output_type": "execute_result"
    }
   ],
   "source": [
    "#Checking to see how much % of data still remains\n",
    "(final['Id'].size*1.0)/(filtered_data['Id'].size*1.0)*100"
   ]
  },
  {
   "cell_type": "markdown",
   "metadata": {
    "colab_type": "text",
    "id": "g4lvCHn6iWNw"
   },
   "source": [
    "<b>Observation:-</b> It was also seen that in two rows given below the value of HelpfulnessNumerator is greater than HelpfulnessDenominator which is not practically possible hence these two rows too are removed from calcualtions"
   ]
  },
  {
   "cell_type": "code",
   "execution_count": 12,
   "metadata": {
    "colab": {},
    "colab_type": "code",
    "id": "6ehzwEdgiWNw",
    "outputId": "60e18da4-784f-49d8-84b7-59823cfa3e85"
   },
   "outputs": [
    {
     "data": {
      "text/html": [
       "<div>\n",
       "<style scoped>\n",
       "    .dataframe tbody tr th:only-of-type {\n",
       "        vertical-align: middle;\n",
       "    }\n",
       "\n",
       "    .dataframe tbody tr th {\n",
       "        vertical-align: top;\n",
       "    }\n",
       "\n",
       "    .dataframe thead th {\n",
       "        text-align: right;\n",
       "    }\n",
       "</style>\n",
       "<table border=\"1\" class=\"dataframe\">\n",
       "  <thead>\n",
       "    <tr style=\"text-align: right;\">\n",
       "      <th></th>\n",
       "      <th>Id</th>\n",
       "      <th>ProductId</th>\n",
       "      <th>UserId</th>\n",
       "      <th>ProfileName</th>\n",
       "      <th>HelpfulnessNumerator</th>\n",
       "      <th>HelpfulnessDenominator</th>\n",
       "      <th>Score</th>\n",
       "      <th>Time</th>\n",
       "      <th>Summary</th>\n",
       "      <th>Text</th>\n",
       "    </tr>\n",
       "  </thead>\n",
       "  <tbody>\n",
       "    <tr>\n",
       "      <th>0</th>\n",
       "      <td>64422</td>\n",
       "      <td>B000MIDROQ</td>\n",
       "      <td>A161DK06JJMCYF</td>\n",
       "      <td>J. E. Stephens \"Jeanne\"</td>\n",
       "      <td>3</td>\n",
       "      <td>1</td>\n",
       "      <td>5</td>\n",
       "      <td>1224892800</td>\n",
       "      <td>Bought This for My Son at College</td>\n",
       "      <td>My son loves spaghetti so I didn't hesitate or...</td>\n",
       "    </tr>\n",
       "    <tr>\n",
       "      <th>1</th>\n",
       "      <td>44737</td>\n",
       "      <td>B001EQ55RW</td>\n",
       "      <td>A2V0I904FH7ABY</td>\n",
       "      <td>Ram</td>\n",
       "      <td>3</td>\n",
       "      <td>2</td>\n",
       "      <td>4</td>\n",
       "      <td>1212883200</td>\n",
       "      <td>Pure cocoa taste with crunchy almonds inside</td>\n",
       "      <td>It was almost a 'love at first bite' - the per...</td>\n",
       "    </tr>\n",
       "  </tbody>\n",
       "</table>\n",
       "</div>"
      ],
      "text/plain": [
       "      Id   ProductId          UserId              ProfileName  \\\n",
       "0  64422  B000MIDROQ  A161DK06JJMCYF  J. E. Stephens \"Jeanne\"   \n",
       "1  44737  B001EQ55RW  A2V0I904FH7ABY                      Ram   \n",
       "\n",
       "   HelpfulnessNumerator  HelpfulnessDenominator  Score        Time  \\\n",
       "0                     3                       1      5  1224892800   \n",
       "1                     3                       2      4  1212883200   \n",
       "\n",
       "                                        Summary  \\\n",
       "0             Bought This for My Son at College   \n",
       "1  Pure cocoa taste with crunchy almonds inside   \n",
       "\n",
       "                                                Text  \n",
       "0  My son loves spaghetti so I didn't hesitate or...  \n",
       "1  It was almost a 'love at first bite' - the per...  "
      ]
     },
     "execution_count": 12,
     "metadata": {},
     "output_type": "execute_result"
    }
   ],
   "source": [
    "display= pd.read_sql_query(\"\"\"\n",
    "SELECT *\n",
    "FROM Reviews\n",
    "WHERE Score != 3 AND Id=44737 OR Id=64422\n",
    "ORDER BY ProductID\n",
    "\"\"\", con)\n",
    "\n",
    "display.head()"
   ]
  },
  {
   "cell_type": "code",
   "execution_count": 13,
   "metadata": {
    "colab": {},
    "colab_type": "code",
    "id": "EBa1d6gViWNz"
   },
   "outputs": [],
   "source": [
    "final=final[final.HelpfulnessNumerator<=final.HelpfulnessDenominator]"
   ]
  },
  {
   "cell_type": "code",
   "execution_count": 14,
   "metadata": {
    "colab": {},
    "colab_type": "code",
    "id": "KNQ01asjiWN1",
    "outputId": "0d2433fb-dd33-41cd-a18d-110d776f60b4"
   },
   "outputs": [
    {
     "name": "stdout",
     "output_type": "stream",
     "text": [
      "(87773, 10)\n"
     ]
    },
    {
     "data": {
      "text/plain": [
       "1    73592\n",
       "0    14181\n",
       "Name: Score, dtype: int64"
      ]
     },
     "execution_count": 14,
     "metadata": {},
     "output_type": "execute_result"
    }
   ],
   "source": [
    "#Before starting the next phase of preprocessing lets see the number of entries left\n",
    "print(final.shape)\n",
    "\n",
    "#How many positive and negative reviews are present in our dataset?\n",
    "final['Score'].value_counts()"
   ]
  },
  {
   "cell_type": "markdown",
   "metadata": {
    "colab_type": "text",
    "id": "92IZ5ea0iWN4"
   },
   "source": [
    "#  [3] Preprocessing"
   ]
  },
  {
   "cell_type": "markdown",
   "metadata": {
    "colab_type": "text",
    "id": "NTwQITJKiWN5"
   },
   "source": [
    "## [3.1].  Preprocessing Review Text\n",
    "\n",
    "Now that we have finished deduplication our data requires some preprocessing before we go on further with analysis and making the prediction model.\n",
    "\n",
    "Hence in the Preprocessing phase we do the following in the order below:-\n",
    "\n",
    "1. Begin by removing the html tags\n",
    "2. Remove any punctuations or limited set of special characters like , or . or # etc.\n",
    "3. Check if the word is made up of english letters and is not alpha-numeric\n",
    "4. Check to see if the length of the word is greater than 2 (as it was researched that there is no adjective in 2-letters)\n",
    "5. Convert the word to lowercase\n",
    "6. Remove Stopwords\n",
    "7. Finally Snowball Stemming the word (it was obsereved to be better than Porter Stemming)<br>\n",
    "\n",
    "After which we collect the words used to describe positive and negative reviews"
   ]
  },
  {
   "cell_type": "code",
   "execution_count": 15,
   "metadata": {
    "colab": {},
    "colab_type": "code",
    "id": "kTCxT5aWiWN5",
    "outputId": "64588cda-64b3-47f0-8d01-941e1cc85cc5"
   },
   "outputs": [
    {
     "name": "stdout",
     "output_type": "stream",
     "text": [
      "My dogs loves this chicken but its a product from China, so we wont be buying it anymore.  Its very hard to find any chicken products made in the USA but they are out there, but this one isnt.  Its too bad too because its a good product but I wont take any chances till they know what is going on with the china imports.\n",
      "==================================================\n",
      "The Candy Blocks were a nice visual for the Lego Birthday party but the candy has little taste to it.  Very little of the 2 lbs that I bought were eaten and I threw the rest away.  I would not buy the candy again.\n",
      "==================================================\n",
      "was way to hot for my blood, took a bite and did a jig  lol\n",
      "==================================================\n",
      "My dog LOVES these treats. They tend to have a very strong fish oil smell. So if you are afraid of the fishy smell, don't get it. But I think my dog likes it because of the smell. These treats are really small in size. They are great for training. You can give your dog several of these without worrying about him over eating. Amazon's price was much more reasonable than any other retailer. You can buy a 1 pound bag on Amazon for almost the same price as a 6 ounce bag at other retailers. It's definitely worth it to buy a big bag if your dog eats them a lot.\n",
      "==================================================\n"
     ]
    }
   ],
   "source": [
    "# printing some random reviews\n",
    "sent_0 = final['Text'].values[0]\n",
    "print(sent_0)\n",
    "print(\"=\"*50)\n",
    "\n",
    "sent_1000 = final['Text'].values[1000]\n",
    "print(sent_1000)\n",
    "print(\"=\"*50)\n",
    "\n",
    "sent_1500 = final['Text'].values[1500]\n",
    "print(sent_1500)\n",
    "print(\"=\"*50)\n",
    "\n",
    "sent_4900 = final['Text'].values[4900]\n",
    "print(sent_4900)\n",
    "print(\"=\"*50)"
   ]
  },
  {
   "cell_type": "code",
   "execution_count": 16,
   "metadata": {
    "colab": {},
    "colab_type": "code",
    "id": "iX3VndCPiWN8",
    "outputId": "7f8cad02-65a6-4530-e7e1-bb6775877737"
   },
   "outputs": [
    {
     "name": "stdout",
     "output_type": "stream",
     "text": [
      "My dogs loves this chicken but its a product from China, so we wont be buying it anymore.  Its very hard to find any chicken products made in the USA but they are out there, but this one isnt.  Its too bad too because its a good product but I wont take any chances till they know what is going on with the china imports.\n"
     ]
    }
   ],
   "source": [
    "# remove urls from text python: https://stackoverflow.com/a/40823105/4084039\n",
    "sent_0 = re.sub(r\"http\\S+\", \"\", sent_0)\n",
    "sent_1000 = re.sub(r\"http\\S+\", \"\", sent_1000)\n",
    "sent_150 = re.sub(r\"http\\S+\", \"\", sent_1500)\n",
    "sent_4900 = re.sub(r\"http\\S+\", \"\", sent_4900)\n",
    "\n",
    "print(sent_0)"
   ]
  },
  {
   "cell_type": "code",
   "execution_count": 17,
   "metadata": {
    "colab": {},
    "colab_type": "code",
    "id": "DyO7iqEriWN_",
    "outputId": "2a010a1c-574d-409f-d725-c726a25d3e70"
   },
   "outputs": [
    {
     "name": "stdout",
     "output_type": "stream",
     "text": [
      "My dogs loves this chicken but its a product from China, so we wont be buying it anymore.  Its very hard to find any chicken products made in the USA but they are out there, but this one isnt.  Its too bad too because its a good product but I wont take any chances till they know what is going on with the china imports.\n",
      "==================================================\n",
      "The Candy Blocks were a nice visual for the Lego Birthday party but the candy has little taste to it.  Very little of the 2 lbs that I bought were eaten and I threw the rest away.  I would not buy the candy again.\n",
      "==================================================\n",
      "was way to hot for my blood, took a bite and did a jig  lol\n",
      "==================================================\n",
      "My dog LOVES these treats. They tend to have a very strong fish oil smell. So if you are afraid of the fishy smell, don't get it. But I think my dog likes it because of the smell. These treats are really small in size. They are great for training. You can give your dog several of these without worrying about him over eating. Amazon's price was much more reasonable than any other retailer. You can buy a 1 pound bag on Amazon for almost the same price as a 6 ounce bag at other retailers. It's definitely worth it to buy a big bag if your dog eats them a lot.\n"
     ]
    }
   ],
   "source": [
    "# https://stackoverflow.com/questions/16206380/python-beautifulsoup-how-to-remove-all-tags-from-an-element\n",
    "from bs4 import BeautifulSoup\n",
    "\n",
    "soup = BeautifulSoup(sent_0, 'lxml')\n",
    "text = soup.get_text()\n",
    "print(text)\n",
    "print(\"=\"*50)\n",
    "\n",
    "soup = BeautifulSoup(sent_1000, 'lxml')\n",
    "text = soup.get_text()\n",
    "print(text)\n",
    "print(\"=\"*50)\n",
    "\n",
    "soup = BeautifulSoup(sent_1500, 'lxml')\n",
    "text = soup.get_text()\n",
    "print(text)\n",
    "print(\"=\"*50)\n",
    "\n",
    "soup = BeautifulSoup(sent_4900, 'lxml')\n",
    "text = soup.get_text()\n",
    "print(text)"
   ]
  },
  {
   "cell_type": "code",
   "execution_count": 18,
   "metadata": {
    "colab": {},
    "colab_type": "code",
    "id": "qzIaKh8niWOC"
   },
   "outputs": [],
   "source": [
    "# https://stackoverflow.com/a/47091490/4084039\n",
    "import re\n",
    "\n",
    "def decontracted(phrase):\n",
    "    # specific\n",
    "    phrase = re.sub(r\"won't\", \"will not\", phrase)\n",
    "    phrase = re.sub(r\"can\\'t\", \"can not\", phrase)\n",
    "\n",
    "    # general\n",
    "    phrase = re.sub(r\"n\\'t\", \" not\", phrase)\n",
    "    phrase = re.sub(r\"\\'re\", \" are\", phrase)\n",
    "    phrase = re.sub(r\"\\'s\", \" is\", phrase)\n",
    "    phrase = re.sub(r\"\\'d\", \" would\", phrase)\n",
    "    phrase = re.sub(r\"\\'ll\", \" will\", phrase)\n",
    "    phrase = re.sub(r\"\\'t\", \" not\", phrase)\n",
    "    phrase = re.sub(r\"\\'ve\", \" have\", phrase)\n",
    "    phrase = re.sub(r\"\\'m\", \" am\", phrase)\n",
    "    return phrase"
   ]
  },
  {
   "cell_type": "code",
   "execution_count": 19,
   "metadata": {
    "colab": {},
    "colab_type": "code",
    "id": "Esa29-JwiWOD",
    "outputId": "be726596-752d-489b-d311-f4180ac83ac4"
   },
   "outputs": [
    {
     "name": "stdout",
     "output_type": "stream",
     "text": [
      "was way to hot for my blood, took a bite and did a jig  lol\n",
      "==================================================\n"
     ]
    }
   ],
   "source": [
    "sent_1500 = decontracted(sent_1500)\n",
    "print(sent_1500)\n",
    "print(\"=\"*50)"
   ]
  },
  {
   "cell_type": "code",
   "execution_count": 20,
   "metadata": {
    "colab": {},
    "colab_type": "code",
    "id": "qf0c7-nXiWOG",
    "outputId": "6104976d-bda8-4de1-9d91-808f3661d53b"
   },
   "outputs": [
    {
     "name": "stdout",
     "output_type": "stream",
     "text": [
      "My dogs loves this chicken but its a product from China, so we wont be buying it anymore.  Its very hard to find any chicken products made in the USA but they are out there, but this one isnt.  Its too bad too because its a good product but I wont take any chances till they know what is going on with the china imports.\n"
     ]
    }
   ],
   "source": [
    "#remove words with numbers python: https://stackoverflow.com/a/18082370/4084039\n",
    "sent_0 = re.sub(\"\\S*\\d\\S*\", \"\", sent_0).strip()\n",
    "print(sent_0)"
   ]
  },
  {
   "cell_type": "code",
   "execution_count": 21,
   "metadata": {
    "colab": {},
    "colab_type": "code",
    "id": "1Z5VK6wxiWOI",
    "outputId": "d3405347-aa6a-4df5-c3d9-2c11441c2385"
   },
   "outputs": [
    {
     "name": "stdout",
     "output_type": "stream",
     "text": [
      "was way to hot for my blood took a bite and did a jig lol\n"
     ]
    }
   ],
   "source": [
    "#remove spacial character: https://stackoverflow.com/a/5843547/4084039\n",
    "sent_1500 = re.sub('[^A-Za-z0-9]+', ' ', sent_1500)\n",
    "print(sent_1500)"
   ]
  },
  {
   "cell_type": "code",
   "execution_count": 22,
   "metadata": {
    "colab": {},
    "colab_type": "code",
    "id": "MfzZtIP1iWOL"
   },
   "outputs": [],
   "source": [
    "# https://gist.github.com/sebleier/554280\n",
    "# we are removing the words from the stop words list: 'no', 'nor', 'not'\n",
    "# <br /><br /> ==> after the above steps, we are getting \"br br\"\n",
    "# we are including them into stop words list\n",
    "# instead of <br /> if we have <br/> these tags would have revmoved in the 1st step\n",
    "\n",
    "stopwords= set(['br', 'the', 'i', 'me', 'my', 'myself', 'we', 'our', 'ours', 'ourselves', 'you', \"you're\", \"you've\",\\\n",
    "            \"you'll\", \"you'd\", 'your', 'yours', 'yourself', 'yourselves', 'he', 'him', 'his', 'himself', \\\n",
    "            'she', \"she's\", 'her', 'hers', 'herself', 'it', \"it's\", 'its', 'itself', 'they', 'them', 'their',\\\n",
    "            'theirs', 'themselves', 'what', 'which', 'who', 'whom', 'this', 'that', \"that'll\", 'these', 'those', \\\n",
    "            'am', 'is', 'are', 'was', 'were', 'be', 'been', 'being', 'have', 'has', 'had', 'having', 'do', 'does', \\\n",
    "            'did', 'doing', 'a', 'an', 'the', 'and', 'but', 'if', 'or', 'because', 'as', 'until', 'while', 'of', \\\n",
    "            'at', 'by', 'for', 'with', 'about', 'against', 'between', 'into', 'through', 'during', 'before', 'after',\\\n",
    "            'above', 'below', 'to', 'from', 'up', 'down', 'in', 'out', 'on', 'off', 'over', 'under', 'again', 'further',\\\n",
    "            'then', 'once', 'here', 'there', 'when', 'where', 'why', 'how', 'all', 'any', 'both', 'each', 'few', 'more',\\\n",
    "            'most', 'other', 'some', 'such', 'only', 'own', 'same', 'so', 'than', 'too', 'very', \\\n",
    "            's', 't', 'can', 'will', 'just', 'don', \"don't\", 'should', \"should've\", 'now', 'd', 'll', 'm', 'o', 're', \\\n",
    "            've', 'y', 'ain', 'aren', \"aren't\", 'couldn', \"couldn't\", 'didn', \"didn't\", 'doesn', \"doesn't\", 'hadn',\\\n",
    "            \"hadn't\", 'hasn', \"hasn't\", 'haven', \"haven't\", 'isn', \"isn't\", 'ma', 'mightn', \"mightn't\", 'mustn',\\\n",
    "            \"mustn't\", 'needn', \"needn't\", 'shan', \"shan't\", 'shouldn', \"shouldn't\", 'wasn', \"wasn't\", 'weren', \"weren't\", \\\n",
    "            'won', \"won't\", 'wouldn', \"wouldn't\"])"
   ]
  },
  {
   "cell_type": "code",
   "execution_count": 23,
   "metadata": {
    "colab": {},
    "colab_type": "code",
    "id": "g1C43tjNiWOM",
    "outputId": "a997afc9-894c-4a56-d538-dadea8a21e6d"
   },
   "outputs": [
    {
     "name": "stderr",
     "output_type": "stream",
     "text": [
      "100%|██████████████████████████████████| 87773/87773 [00:41<00:00, 2169.65it/s]\n"
     ]
    }
   ],
   "source": [
    "# Combining all the above stundents \n",
    "from tqdm import tqdm\n",
    "preprocessed_reviews = []\n",
    "# tqdm is for printing the status bar\n",
    "for sentance in tqdm(final['Text'].values):\n",
    "    sentance = re.sub(r\"http\\S+\", \"\", sentance)\n",
    "    sentance = BeautifulSoup(sentance, 'lxml').get_text()\n",
    "    sentance = decontracted(sentance)\n",
    "    sentance = re.sub(\"\\S*\\d\\S*\", \"\", sentance).strip()\n",
    "    sentance = re.sub('[^A-Za-z]+', ' ', sentance)\n",
    "    # https://gist.github.com/sebleier/554280\n",
    "    sentance = ' '.join(e.lower() for e in sentance.split() if e.lower() not in stopwords)\n",
    "    preprocessed_reviews.append(sentance.strip())"
   ]
  },
  {
   "cell_type": "code",
   "execution_count": 24,
   "metadata": {
    "colab": {},
    "colab_type": "code",
    "id": "MWDrCFxViWOP",
    "outputId": "5618c9c3-a86a-42a4-e9c4-d24d93fd5a7a"
   },
   "outputs": [
    {
     "data": {
      "text/plain": [
       "'way hot blood took bite jig lol'"
      ]
     },
     "execution_count": 24,
     "metadata": {},
     "output_type": "execute_result"
    }
   ],
   "source": [
    "preprocessed_reviews[1500]"
   ]
  },
  {
   "cell_type": "markdown",
   "metadata": {
    "colab_type": "text",
    "id": "fEu8sShciWOS"
   },
   "source": [
    "<h2><font color='red'>[3.2] Preprocessing Review Summary</font></h2>"
   ]
  },
  {
   "cell_type": "markdown",
   "metadata": {
    "colab": {},
    "colab_type": "code",
    "id": "XP1URIERiWOU"
   },
   "source": [
    "## Similartly you can do preprocessing for review summary also."
   ]
  },
  {
   "cell_type": "markdown",
   "metadata": {
    "colab_type": "text",
    "id": "p2lyiwJ_iWOW"
   },
   "source": [
    "# [4] Featurization"
   ]
  },
  {
   "cell_type": "markdown",
   "metadata": {
    "colab_type": "text",
    "id": "T_LFck8iiWOX"
   },
   "source": [
    "## [4.1] BAG OF WORDS"
   ]
  },
  {
   "cell_type": "code",
   "execution_count": 25,
   "metadata": {
    "colab": {},
    "colab_type": "code",
    "id": "OVHZ9f8biWOX",
    "outputId": "b121f6f4-e30a-4184-b083-a77cdab3ca19"
   },
   "outputs": [
    {
     "name": "stdout",
     "output_type": "stream",
     "text": [
      "some feature names  ['able', 'absolute', 'absolutely', 'according', 'acid', 'acidic', 'across', 'actual', 'actually', 'add']\n",
      "==================================================\n",
      "the type of count vectorizer  <class 'scipy.sparse.csr.csr_matrix'>\n",
      "the shape of out text BOW vectorizer  (87773, 2000)\n",
      "the number of unique words  2000\n"
     ]
    }
   ],
   "source": [
    "#BoW\n",
    "count_vect = CountVectorizer(max_features = 2000,min_df = 10) #in scikit-learn\n",
    "count_vect.fit(preprocessed_reviews)\n",
    "print(\"some feature names \", count_vect.get_feature_names()[:10])\n",
    "print('='*50)\n",
    "\n",
    "final_counts = count_vect.transform(preprocessed_reviews)\n",
    "print(\"the type of count vectorizer \",type(final_counts))\n",
    "print(\"the shape of out text BOW vectorizer \",final_counts.get_shape())\n",
    "print(\"the number of unique words \", final_counts.get_shape()[1])"
   ]
  },
  {
   "cell_type": "markdown",
   "metadata": {
    "colab_type": "text",
    "id": "mjfrB76yiWOa"
   },
   "source": [
    "## [4.2] Bi-Grams and n-Grams."
   ]
  },
  {
   "cell_type": "code",
   "execution_count": 26,
   "metadata": {
    "colab": {},
    "colab_type": "code",
    "id": "mzOdOY6MiWOb",
    "outputId": "5ca07a6a-fb12-4deb-b0f4-21cdb42ccb7a"
   },
   "outputs": [
    {
     "name": "stdout",
     "output_type": "stream",
     "text": [
      "the type of count vectorizer  <class 'scipy.sparse.csr.csr_matrix'>\n",
      "the shape of out text BOW vectorizer  (87773, 5000)\n",
      "the number of unique words including both unigrams and bigrams  5000\n"
     ]
    }
   ],
   "source": [
    "#bi-gram, tri-gram and n-gram\n",
    "\n",
    "#removing stop words like \"not\" should be avoided before building n-grams\n",
    "# count_vect = CountVectorizer(ngram_range=(1,2))\n",
    "# please do read the CountVectorizer documentation http://scikit-learn.org/stable/modules/generated/sklearn.feature_extraction.text.CountVectorizer.html\n",
    "\n",
    "# you can choose these numebrs min_df=10, max_features=5000, of your choice\n",
    "count_vect = CountVectorizer(ngram_range=(1,2), min_df=10, max_features=5000)\n",
    "final_bigram_counts = count_vect.fit_transform(preprocessed_reviews)\n",
    "print(\"the type of count vectorizer \",type(final_bigram_counts))\n",
    "print(\"the shape of out text BOW vectorizer \",final_bigram_counts.get_shape())\n",
    "print(\"the number of unique words including both unigrams and bigrams \", final_bigram_counts.get_shape()[1])"
   ]
  },
  {
   "cell_type": "markdown",
   "metadata": {
    "colab_type": "text",
    "id": "0tcbbZxSiWOd"
   },
   "source": [
    "## [4.3] TF-IDF"
   ]
  },
  {
   "cell_type": "code",
   "execution_count": 27,
   "metadata": {
    "colab": {},
    "colab_type": "code",
    "id": "mQ3EDEsoiWOd",
    "outputId": "b305ed29-861d-40e9-c1df-b12c4e6492a8"
   },
   "outputs": [
    {
     "name": "stdout",
     "output_type": "stream",
     "text": [
      "some sample features(unique words in the corpus) ['ability', 'able', 'able buy', 'able find', 'able get', 'absolute', 'absolute favorite', 'absolutely', 'absolutely best', 'absolutely delicious']\n",
      "==================================================\n",
      "the type of count vectorizer  <class 'scipy.sparse.csr.csr_matrix'>\n",
      "the shape of out text TFIDF vectorizer  (87773, 5000)\n",
      "the number of unique words including both unigrams and bigrams  5000\n"
     ]
    }
   ],
   "source": [
    "tf_idf_vect = TfidfVectorizer(ngram_range=(1,2), min_df=10,max_features=5000)\n",
    "tf_idf_vect.fit(preprocessed_reviews)\n",
    "print(\"some sample features(unique words in the corpus)\",tf_idf_vect.get_feature_names()[0:10])\n",
    "print('='*50)\n",
    "\n",
    "final_tf_idf = tf_idf_vect.transform(preprocessed_reviews)\n",
    "print(\"the type of count vectorizer \",type(final_tf_idf))\n",
    "print(\"the shape of out text TFIDF vectorizer \",final_tf_idf.get_shape())\n",
    "print(\"the number of unique words including both unigrams and bigrams \", final_tf_idf.get_shape()[1])"
   ]
  },
  {
   "cell_type": "markdown",
   "metadata": {
    "colab_type": "text",
    "id": "u566lt93iWOf"
   },
   "source": [
    "## [4.4] Word2Vec"
   ]
  },
  {
   "cell_type": "code",
   "execution_count": 28,
   "metadata": {
    "colab": {},
    "colab_type": "code",
    "id": "pxlbMwFjiWOg"
   },
   "outputs": [],
   "source": [
    "# Train your own Word2Vec model using your own text corpus\n",
    "i=0\n",
    "list_of_sentance=[]\n",
    "for sentance in preprocessed_reviews:\n",
    "    list_of_sentance.append(sentance.split())"
   ]
  },
  {
   "cell_type": "code",
   "execution_count": 29,
   "metadata": {
    "colab": {},
    "colab_type": "code",
    "id": "NOd5wp0yiWOh",
    "outputId": "ae28439d-438c-4d88-ed12-db5f3317218f",
    "scrolled": true
   },
   "outputs": [
    {
     "name": "stdout",
     "output_type": "stream",
     "text": [
      "[('fantastic', 0.8422850370407104), ('awesome', 0.818889856338501), ('good', 0.8136543035507202), ('excellent', 0.8057469725608826), ('terrific', 0.800890326499939), ('wonderful', 0.7802713513374329), ('perfect', 0.772821843624115), ('fabulous', 0.7299792766571045), ('amazing', 0.71895432472229), ('nice', 0.7000572681427002)]\n",
      "==================================================\n",
      "[('greatest', 0.8332216143608093), ('best', 0.7406569719314575), ('tastiest', 0.7373651266098022), ('nastiest', 0.696239173412323), ('coolest', 0.6646136045455933), ('nicest', 0.6555087566375732), ('smoothest', 0.6494917273521423), ('disgusting', 0.6205065250396729), ('awful', 0.6184951066970825), ('terrible', 0.6113563776016235)]\n"
     ]
    }
   ],
   "source": [
    "# Using Google News Word2Vectors\n",
    "\n",
    "# in this project we are using a pretrained model by google\n",
    "# its 3.3G file, once you load this into your memory \n",
    "# it occupies ~9Gb, so please do this step only if you have >12G of ram\n",
    "# we will provide a pickle file wich contains a dict , \n",
    "# and it contains all our courpus words as keys and  model[word] as values\n",
    "# To use this code-snippet, download \"GoogleNews-vectors-negative300.bin\" \n",
    "# from https://drive.google.com/file/d/0B7XkCwpI5KDYNlNUTTlSS21pQmM/edit\n",
    "# it's 1.9GB in size.\n",
    "\n",
    "\n",
    "# http://kavita-ganesan.com/gensim-word2vec-tutorial-starter-code/#.W17SRFAzZPY\n",
    "# you can comment this whole cell\n",
    "# or change these varible according to your need\n",
    "\n",
    "want_to_train_w2v = True\n",
    "\n",
    "if want_to_train_w2v:\n",
    "    # min_count = 5 considers only words that occured atleast 5 times\n",
    "    w2v_model=Word2Vec(list_of_sentance,min_count=5,size=50, workers=4)\n",
    "    print(w2v_model.wv.most_similar('great'))\n",
    "    print('='*50)\n",
    "    print(w2v_model.wv.most_similar('worst'))\n"
   ]
  },
  {
   "cell_type": "code",
   "execution_count": 30,
   "metadata": {
    "colab": {},
    "colab_type": "code",
    "id": "teE01Qk2iWOj",
    "outputId": "f063436c-8b62-49d3-e093-723395e66ccd"
   },
   "outputs": [
    {
     "name": "stdout",
     "output_type": "stream",
     "text": [
      "number of words that occured minimum 5 times  17386\n",
      "sample words  ['dogs', 'loves', 'chicken', 'product', 'china', 'wont', 'buying', 'anymore', 'hard', 'find', 'products', 'made', 'usa', 'one', 'isnt', 'bad', 'good', 'take', 'chances', 'till', 'know', 'going', 'imports', 'love', 'saw', 'pet', 'store', 'tag', 'attached', 'regarding', 'satisfied', 'safe', 'infestation', 'literally', 'everywhere', 'flying', 'around', 'kitchen', 'bought', 'hoping', 'least', 'get', 'rid', 'weeks', 'fly', 'stuck', 'squishing', 'buggers', 'success', 'rate']\n"
     ]
    }
   ],
   "source": [
    "w2v_words = list(w2v_model.wv.vocab)\n",
    "print(\"number of words that occured minimum 5 times \",len(w2v_words))\n",
    "print(\"sample words \", w2v_words[0:50])"
   ]
  },
  {
   "cell_type": "markdown",
   "metadata": {
    "colab_type": "text",
    "id": "mUNnof40iWOl"
   },
   "source": [
    "## [4.4.1] Converting text into vectors using Avg W2V, TFIDF-W2V"
   ]
  },
  {
   "cell_type": "markdown",
   "metadata": {
    "colab_type": "text",
    "id": "heHLB_FCiWOm"
   },
   "source": [
    "#### [4.4.1.1] Avg W2v"
   ]
  },
  {
   "cell_type": "code",
   "execution_count": 31,
   "metadata": {
    "colab": {},
    "colab_type": "code",
    "id": "iCYoNRANiWOm",
    "outputId": "96ebb104-44d7-4b7d-aa45-62614bbfcf44"
   },
   "outputs": [
    {
     "name": "stderr",
     "output_type": "stream",
     "text": [
      "100%|███████████████████████████████████| 87773/87773 [05:00<00:00, 292.42it/s]\n"
     ]
    },
    {
     "name": "stdout",
     "output_type": "stream",
     "text": [
      "87773\n",
      "50\n"
     ]
    }
   ],
   "source": [
    "# average Word2Vec\n",
    "# compute average word2vec for each review.\n",
    "sent_vectors = []; # the avg-w2v for each sentence/review is stored in this list\n",
    "for sent in tqdm(list_of_sentance): # for each review/sentence\n",
    "    sent_vec = np.zeros(50) # as word vectors are of zero length 50, you might need to change this to 300 if you use google's w2v\n",
    "    cnt_words =0; # num of words with a valid vector in the sentence/review\n",
    "    for word in sent: # for each word in a review/sentence\n",
    "        if word in w2v_words:\n",
    "            vec = w2v_model.wv[word]\n",
    "            sent_vec += vec\n",
    "            cnt_words += 1\n",
    "    if cnt_words != 0:\n",
    "        sent_vec /= cnt_words\n",
    "    sent_vectors.append(sent_vec)\n",
    "print(len(sent_vectors))\n",
    "print(len(sent_vectors[0]))"
   ]
  },
  {
   "cell_type": "markdown",
   "metadata": {
    "colab_type": "text",
    "id": "ylTn3LgiiWOo"
   },
   "source": [
    "#### [4.4.1.2] TFIDF weighted W2v"
   ]
  },
  {
   "cell_type": "code",
   "execution_count": 32,
   "metadata": {
    "colab": {},
    "colab_type": "code",
    "id": "XBxf_qKSiWOo"
   },
   "outputs": [],
   "source": [
    "# S = [\"abc def pqr\", \"def def def abc\", \"pqr pqr def\"]\n",
    "model = TfidfVectorizer(min_df=10, max_features=5000)\n",
    "tf_idf_matrix = model.fit_transform(preprocessed_reviews)\n",
    "# we are converting a dictionary with word as a key, and the idf as a value\n",
    "dictionary = dict(zip(model.get_feature_names(), list(model.idf_)))"
   ]
  },
  {
   "cell_type": "code",
   "execution_count": 33,
   "metadata": {
    "colab": {},
    "colab_type": "code",
    "id": "5FHQMSyUiWOp",
    "outputId": "6b5b71be-e3f7-4933-cd74-f78fb703132d",
    "scrolled": true
   },
   "outputs": [
    {
     "name": "stderr",
     "output_type": "stream",
     "text": [
      "100%|███████████████████████████████████| 87773/87773 [09:23<00:00, 155.72it/s]\n"
     ]
    }
   ],
   "source": [
    "# TF-IDF weighted Word2Vec\n",
    "tfidf_feat = model.get_feature_names() # tfidf words/col-names\n",
    "# final_tf_idf is the sparse matrix with row= sentence, col=word and cell_val = tfidf\n",
    "\n",
    "tfidf_sent_vectors = []; # the tfidf-w2v for each sentence/review is stored in this list\n",
    "row=0;\n",
    "for sent in tqdm(list_of_sentance): # for each review/sentence \n",
    "    sent_vec = np.zeros(50) # as word vectors are of zero length\n",
    "    weight_sum =0; # num of words with a valid vector in the sentence/review\n",
    "    for word in sent: # for each word in a review/sentence\n",
    "        if word in w2v_words and word in tfidf_feat:\n",
    "            vec = w2v_model.wv[word]\n",
    "#             tf_idf = tf_idf_matrix[row, tfidf_feat.index(word)]\n",
    "            # to reduce the computation we are \n",
    "            # dictionary[word] = idf value of word in whole courpus\n",
    "            # sent.count(word) = tf valeus of word in this review\n",
    "            tf_idf = dictionary[word]*(sent.count(word)/len(sent))\n",
    "            sent_vec += (vec * tf_idf)\n",
    "            weight_sum += tf_idf\n",
    "    if weight_sum != 0:\n",
    "        sent_vec /= weight_sum\n",
    "    tfidf_sent_vectors.append(sent_vec)\n",
    "    row += 1"
   ]
  },
  {
   "cell_type": "markdown",
   "metadata": {
    "colab_type": "text",
    "id": "IwObBT2UiWOr"
   },
   "source": [
    "# [5] Assignment 8: Decision Trees"
   ]
  },
  {
   "cell_type": "markdown",
   "metadata": {
    "colab_type": "text",
    "id": "k_mwmumRiWOr"
   },
   "source": [
    "<ol>\n",
    "    <li><strong>Apply Decision Trees on these feature sets</strong>\n",
    "        <ul>\n",
    "            <li><font color='red'>SET 1:</font>Review text, preprocessed one converted into vectors using (BOW)</li>\n",
    "            <li><font color='red'>SET 2:</font>Review text, preprocessed one converted into vectors using (TFIDF)</li>\n",
    "            <li><font color='red'>SET 3:</font>Review text, preprocessed one converted into vectors using (AVG W2v)</li>\n",
    "            <li><font color='red'>SET 4:</font>Review text, preprocessed one converted into vectors using (TFIDF W2v)</li>\n",
    "        </ul>\n",
    "    </li>\n",
    "    <br>\n",
    "    <li><strong>The hyper paramter tuning (best `depth` in range [1, 5, 10, 50, 100, 500, 100], and the best `min_samples_split` in range [5, 10, 100, 500])</strong>\n",
    "        <ul>\n",
    "    <li>Find the best hyper parameter which will give the maximum <a href='https://www.appliedaicourse.com/course/applied-ai-course-online/lessons/receiver-operating-characteristic-curve-roc-curve-and-auc-1/'>AUC</a> value</li>\n",
    "    <li>Find the best hyper paramter using k-fold cross validation or simple cross validation data</li>\n",
    "    <li>Use gridsearch cv or randomsearch cv or you can also write your own for loops to do this task of hyperparameter tuning</li>          \n",
    "        </ul>\n",
    "    </li>\n",
    "    <br>\n",
    "    <li><strong>Graphviz</strong>\n",
    "        <ul>\n",
    "    <li>Visualize your decision tree with Graphviz. It helps you to understand how a decision is being made, given a new vector.</li>\n",
    "    <li>Since feature names are not obtained from word2vec related models, visualize only BOW & TFIDF decision trees using Graphviz</li>\n",
    "    <li>Make sure to print the words in each node of the decision tree instead of printing its index.</li>\n",
    "    <li>Just for visualization purpose, limit max_depth to 2 or 3 and either embed the generated images of graphviz in your notebook, or directly upload them as .png files.</li>                \n",
    "        </ul>\n",
    "    </li>\n",
    "    <br>\n",
    "    <li><strong>Feature importance</strong>\n",
    "        <ul>\n",
    "    <li>Find the top 20 important features from both feature sets <font color='red'>Set 1</font> and <font color='red'>Set 2</font> using `feature_importances_` method of <a href='https://scikit-learn.org/stable/modules/generated/sklearn.tree.DecisionTreeClassifier.html'>Decision Tree Classifier</a> and print their corresponding feature names</li>\n",
    "        </ul>\n",
    "    </li>\n",
    "    <br>\n",
    "    <li><strong>Feature engineering</strong>\n",
    "        <ul>\n",
    "    <li>To increase the performance of your model, you can also experiment with with feature engineering like :</li>\n",
    "            <ul>\n",
    "            <li>Taking length of reviews as another feature.</li>\n",
    "            <li>Considering some features from review summary as well.</li>\n",
    "        </ul>\n",
    "        </ul>\n",
    "    </li>\n",
    "    <br>\n",
    "    <li><strong>Representation of results</strong>\n",
    "        <ul>\n",
    "    <li>You need to plot the performance of model both on train data and cross validation data for each hyper parameter, like shown in the figure.\n",
    "    <img src='train_cv_auc.JPG' width=300px></li>\n",
    "    <li>Once after you found the best hyper parameter, you need to train your model with it, and find the AUC on test data and plot the ROC curve on both train and test.\n",
    "    <img src='train_test_auc.JPG' width=300px></li>\n",
    "    <li>Along with plotting ROC curve, you need to print the <a href='https://www.appliedaicourse.com/course/applied-ai-course-online/lessons/confusion-matrix-tpr-fpr-fnr-tnr-1/'>confusion matrix</a> with predicted and original labels of test data points. Please visualize your confusion matrices using <a href='https://seaborn.pydata.org/generated/seaborn.heatmap.html'>seaborn heatmaps.\n",
    "    <img src='confusion_matrix.png' width=300px></li>\n",
    "        </ul>\n",
    "    </li>\n",
    "    <br>\n",
    "    <li><strong>Conclusion</strong>\n",
    "        <ul>\n",
    "    <li>You need to summarize the results at the end of the notebook, summarize it in the table format. To print out a table please refer to this prettytable library<a href='http://zetcode.com/python/prettytable/'>  link</a> \n",
    "        <img src='summary.JPG' width=400px>\n",
    "    </li>\n",
    "        </ul>\n",
    "</ol>"
   ]
  },
  {
   "cell_type": "markdown",
   "metadata": {
    "colab_type": "text",
    "id": "uqhvv_IiiWOs"
   },
   "source": [
    "<h4><font color='red'>Note: Data Leakage</font></h4>\n",
    "\n",
    "1. There will be an issue of data-leakage if you vectorize the entire data and then split it into train/cv/test.\n",
    "2. To avoid the issue of data-leakag, make sure to split your data first and then vectorize it. \n",
    "3. While vectorizing your data, apply the method fit_transform() on you train data, and apply the method transform() on cv/test data.\n",
    "4. For more details please go through this <a href='https://soundcloud.com/applied-ai-course/leakage-bow-and-tfidf'>link.</a>"
   ]
  },
  {
   "cell_type": "markdown",
   "metadata": {
    "colab_type": "text",
    "id": "ayLYlocviWOs"
   },
   "source": [
    "# Applying Decision Trees"
   ]
  },
  {
   "cell_type": "markdown",
   "metadata": {
    "colab_type": "text",
    "id": "fvKQwJMWiWOt"
   },
   "source": [
    "## [5.1] Applying Decision Trees on BOW,<font color='red'> SET 1</font>"
   ]
  },
  {
   "cell_type": "code",
   "execution_count": 34,
   "metadata": {
    "colab": {},
    "colab_type": "code",
    "id": "vnSi4W-iiWOt"
   },
   "outputs": [],
   "source": [
    "# ============================== loading libraries ===========================================\n",
    "import numpy as np\n",
    "import pandas as pd\n",
    "import math\n",
    "import matplotlib.pyplot as plt\n",
    "from sklearn.model_selection  import train_test_split\n",
    "from sklearn.metrics import accuracy_score\n",
    "from sklearn.model_selection  import cross_val_score\n",
    "from collections import Counter\n",
    "from sklearn.metrics import accuracy_score\n",
    "import scikitplot.metrics as skplt\n",
    "from sklearn import model_selection\n",
    "from sklearn.metrics import roc_auc_score\n",
    "from sklearn.linear_model import LogisticRegression\n",
    "from sklearn.calibration import CalibratedClassifierCV\n",
    "from sklearn.tree import DecisionTreeClassifier\n",
    "from sklearn.model_selection import TimeSeriesSplit\n",
    "from sklearn.tree import export_graphviz\n",
    "# ============================================================================================="
   ]
  },
  {
   "cell_type": "code",
   "execution_count": 35,
   "metadata": {},
   "outputs": [],
   "source": [
    "#Spliting entire data to train,test and cross validation \n",
    "X=np.array(preprocessed_reviews)\n",
    "y = np.array(final['Score'])\n",
    "\n",
    "#https://scikit-learn.org/stable/modules/generated/sklearn.model_selection.TimeSeriesSplit.html\n",
    "tscv = TimeSeriesSplit(n_splits=4)\n",
    "for train_index, test_index in tscv.split(X):\n",
    "    X_1, X_test = X[train_index], X[test_index]\n",
    "    y_1, y_test = y[train_index], y[test_index]\n",
    "\n",
    "tscv = TimeSeriesSplit(n_splits=3)\n",
    "for train_index, test_index in tscv.split(X_1):\n",
    "    X_tr, X_cv = X_1[train_index], X_1[test_index]\n",
    "    y_tr, y_cv = y_1[train_index], y_1[test_index]\n",
    "\n",
    "#converting Reviews to Bag of words after splitting to avoid data leakage problem\n",
    "count_vect = CountVectorizer(max_features = 2000,min_df = 10)\n",
    "final_X_tr=count_vect.fit_transform(X_tr)\n",
    "final_X_test=count_vect.transform(X_test)\n",
    "final_X_cv=count_vect.transform(X_cv)"
   ]
  },
  {
   "cell_type": "code",
   "execution_count": 36,
   "metadata": {},
   "outputs": [
    {
     "name": "stdout",
     "output_type": "stream",
     "text": [
      "100\n",
      "500\n"
     ]
    }
   ],
   "source": [
    "#Calculating for finding Best min_splits and best depth\n",
    "#predic_proba reference:\n",
    "#https://stackoverflow.com/questions/37089177/probability-prediction-method-of-kneighborsclassifier-returns-only-0-and-1\n",
    "#https://discuss.analyticsvidhya.com/t/what-is-the-difference-between-predict-and-predict-proba/67376/3\n",
    "roc_tr=[]\n",
    "roc_cv=[]\n",
    "best_m=[]\n",
    "max_auc_score=0\n",
    "best_min_splits=0\n",
    "depths=[1,5,10,50,100,500,1000]\n",
    "min_samples_split=[5,10,100,500]\n",
    "for d in depths:\n",
    "    for m in min_samples_split:\n",
    "        \n",
    "        clf=DecisionTreeClassifier(max_depth=d,min_samples_split=m,class_weight='balanced')\n",
    "        # fitting the model on train data\n",
    "        clf.fit(final_X_tr,y_tr)\n",
    "        \n",
    "        # predict the response on the training data \n",
    "        pred_tr = clf.predict_proba(final_X_cv)\n",
    "        pred_tr=(pred_tr)[:,1]\n",
    "        roc_auc_score(y_cv,pred_tr)\n",
    "        \n",
    "        # predict the response on the crossvalidation \n",
    "        pred_cv = clf.predict_proba(final_X_cv)\n",
    "        pred_cv=(pred_cv)[:,1]\n",
    "        roc_auc_score(y_cv,pred_cv)\n",
    "        \n",
    "        if roc_auc_score(y_cv,pred_cv)>max_auc_score:\n",
    "            best_min_splits=m\n",
    "            max_auc_score=roc_auc_score(y_cv,pred_cv)      \n",
    "    clf=DecisionTreeClassifier(max_depth=d,min_samples_split=best_min_splits,class_weight='balanced')\n",
    "    # fitting the model on train data\n",
    "    clf.fit(final_X_tr,y_tr)\n",
    "    \n",
    "    # predict the response on the traininig\n",
    "    pred_tr = clf.predict_proba(final_X_tr)\n",
    "    pred_tr=(pred_tr)[:,1]\n",
    "    roc_tr.append(roc_auc_score(y_tr,pred_tr))\n",
    "    best_m.append(best_min_splits)\n",
    "   \n",
    "    # predict the response on the crossvalidation \n",
    "    pred_cv = clf.predict_proba(final_X_cv)\n",
    "    pred_cv=(pred_cv)[:,1]\n",
    "    roc_cv.append(roc_auc_score(y_cv,pred_cv))    \n",
    "\n",
    "    \n",
    "best_depth= depths[roc_cv.index(max(roc_cv))]\n",
    "best_min_samples_split=best_m[roc_cv.index(max(roc_cv))]\n",
    "print(best_depth)\n",
    "print(best_min_samples_split)\n",
    "best_depth_bow=best_depth\n",
    "best_min_samples_split_bow=best_min_samples_split"
   ]
  },
  {
   "cell_type": "markdown",
   "metadata": {},
   "source": [
    "<b> Curve plotting between AUC of cv and train with depths</b>"
   ]
  },
  {
   "cell_type": "code",
   "execution_count": 37,
   "metadata": {
    "scrolled": true
   },
   "outputs": [
    {
     "data": {
      "image/png": "[encoded data removed]",
      "text/plain": [
       "<Figure size 432x288 with 1 Axes>"
      ]
     },
     "metadata": {
      "needs_background": "light"
     },
     "output_type": "display_data"
    }
   ],
   "source": [
    "# plotting curve between between AUC of cv and train\n",
    "plt.plot(depths,roc_tr,label=\"AUC-train\")\n",
    "plt.plot(depths,roc_cv ,label=\"AUC-cv\")\n",
    "plt.legend()\n",
    "plt.xlabel('depths')\n",
    "plt.ylabel('AUC')\n",
    "plt.title('AUC Score VS depths')\n",
    "plt.show()"
   ]
  },
  {
   "cell_type": "code",
   "execution_count": 38,
   "metadata": {},
   "outputs": [],
   "source": [
    "roc_tr_minsplits=[]\n",
    "roc_cv_minsplits=[]\n",
    "max_auc_score=0\n",
    "best_depth=0\n",
    "for m in min_samples_split:\n",
    "    for d in depths:\n",
    "      \n",
    "        clf=DecisionTreeClassifier(max_depth=d,min_samples_split=m,class_weight='balanced')\n",
    "        # fitting the model on train data\n",
    "        clf.fit(final_X_tr,y_tr)\n",
    "        \n",
    "        # predict the response on the training data \n",
    "        pred_tr = clf.predict_proba(final_X_cv)\n",
    "        pred_tr=(pred_tr)[:,1]\n",
    "        roc_auc_score(y_cv,pred_tr)\n",
    "        \n",
    "        # predict the response on the crossvalidation \n",
    "        pred_cv = clf.predict_proba(final_X_cv)\n",
    "        pred_cv=(pred_cv)[:,1]\n",
    "        roc_auc_score(y_cv,pred_cv)\n",
    "        \n",
    "        if roc_auc_score(y_cv,pred_cv)>max_auc_score:\n",
    "            best_depth=d\n",
    "            max_auc_score=roc_auc_score(y_cv,pred_cv)      \n",
    "    clf=DecisionTreeClassifier(max_depth=best_depth,min_samples_split=m,class_weight='balanced')\n",
    "    # fitting the model on train data\n",
    "    clf.fit(final_X_tr,y_tr)\n",
    "    \n",
    "    # predict the response on the traininig\n",
    "    pred_tr = clf.predict_proba(final_X_tr)\n",
    "    pred_tr=(pred_tr)[:,1]\n",
    "    roc_tr_minsplits.append(roc_auc_score(y_tr,pred_tr))\n",
    "    best_m.append(best_min_splits)\n",
    "   \n",
    "    # predict the response on the crossvalidation \n",
    "    pred_cv = clf.predict_proba(final_X_cv)\n",
    "    pred_cv=(pred_cv)[:,1]\n",
    "    roc_cv_minsplits.append(roc_auc_score(y_cv,pred_cv))\n"
   ]
  },
  {
   "cell_type": "code",
   "execution_count": 39,
   "metadata": {},
   "outputs": [
    {
     "data": {
      "image/png": "[encoded data removed]",
      "text/plain": [
       "<Figure size 432x288 with 1 Axes>"
      ]
     },
     "metadata": {
      "needs_background": "light"
     },
     "output_type": "display_data"
    }
   ],
   "source": [
    "# plotting curve between between AUC of cv and train\n",
    "plt.plot(min_samples_split,roc_tr_minsplits,label=\"AUC-train\")\n",
    "plt.plot(min_samples_split,roc_cv_minsplits ,label=\"AUC-cv\")\n",
    "plt.legend()\n",
    "plt.xlabel('min_splits')\n",
    "plt.ylabel('AUC')\n",
    "plt.title('AUC Score VS min_splits')\n",
    "plt.show()"
   ]
  },
  {
   "cell_type": "markdown",
   "metadata": {},
   "source": [
    "<b> Training the model with the obtained best depth and min_splits and plotting Roc curve</b>"
   ]
  },
  {
   "cell_type": "code",
   "execution_count": 40,
   "metadata": {
    "scrolled": true
   },
   "outputs": [
    {
     "data": {
      "image/png": "[encoded data removed]",
      "text/plain": [
       "<Figure size 432x288 with 1 Axes>"
      ]
     },
     "metadata": {
      "needs_background": "light"
     },
     "output_type": "display_data"
    }
   ],
   "source": [
    "#1)Training the model using best min_splits and best depth   \n",
    "clf=DecisionTreeClassifier(max_depth=best_depth_bow,min_samples_split=best_min_samples_split_bow,class_weight='balanced')\n",
    "# fitting the model on train data\n",
    "clf.fit(final_X_tr,y_tr)\n",
    "#predicting probablity of success Training data\n",
    "pred_tr = clf.predict_proba(final_X_tr)\n",
    "pred_tr=(pred_tr)[:,1]\n",
    "#predicting probability of success on Test data\n",
    "pred_test = clf.predict_proba(final_X_test)\n",
    "pred_test=(pred_test)[:,1]\n",
    "\n",
    "#2)Plotting Roc Curve\n",
    "#Reference for finding fpr an tpr :\n",
    "#https://www.programcreek.com/python/example/81207/sklearn.metrics.roc_curve\n",
    "fpr_tr, tpr_tr, threshold_train = metrics.roc_curve(y_tr, pred_tr)\n",
    "fpr_test, tpr_test, threshold_test = metrics.roc_curve(y_test, pred_test)\n",
    "auc_bow=roc_auc_score(y_test,pred_test)\n",
    "plt.plot(fpr_test,tpr_test ,label='ROC on on Test data ,auc='+str(roc_auc_score(y_test,pred_test)))\n",
    "plt.plot(fpr_tr,tpr_tr ,label='ROC on on Train data ,auc='+str(roc_auc_score(y_tr,pred_tr)))\n",
    "plt.legend()\n",
    "plt.title('ROC on best depth and min_splits')\n",
    "plt.xlabel('FPR')\n",
    "plt.ylabel('TPR')\n",
    "plt.show()"
   ]
  },
  {
   "cell_type": "code",
   "execution_count": 41,
   "metadata": {},
   "outputs": [
    {
     "data": {
      "text/plain": [
       "<matplotlib.axes._subplots.AxesSubplot at 0x260eb70ba8>"
      ]
     },
     "execution_count": 41,
     "metadata": {},
     "output_type": "execute_result"
    },
    {
     "data": {
      "image/png": "[encoded data removed]",
      "text/plain": [
       "<Figure size 432x288 with 2 Axes>"
      ]
     },
     "metadata": {
      "needs_background": "light"
     },
     "output_type": "display_data"
    }
   ],
   "source": [
    "#plotting the confusion matrix\n",
    "#Reference:\n",
    "#https://scikit-learn.org/stable/modules/generated/sklearn.metrics.confusion_matrix.html\n",
    "\n",
    "prediction=clf.predict(final_X_test)\n",
    "skplt.plot_confusion_matrix(y_test ,prediction)"
   ]
  },
  {
   "cell_type": "markdown",
   "metadata": {
    "colab_type": "text",
    "id": "jm4vkPwMiWOu"
   },
   "source": [
    "### [5.1.1] Top 20 important features from<font color='red'> SET 1</font>"
   ]
  },
  {
   "cell_type": "code",
   "execution_count": 42,
   "metadata": {
    "colab": {},
    "colab_type": "code",
    "id": "puCcjOAkiWOv",
    "scrolled": true
   },
   "outputs": [
    {
     "name": "stdout",
     "output_type": "stream",
     "text": [
      "Feature_importance_scores\tFeature_names\n",
      "------------------------------------------------------------\n",
      "\t0.1502\t\t\tnot            \n",
      "\t0.0943\t\t\tgreat          \n",
      "\t0.0420\t\t\tbest           \n",
      "\t0.0405\t\t\tdelicious      \n",
      "\t0.0307\t\t\tlove           \n",
      "\t0.0263\t\t\tloves          \n",
      "\t0.0263\t\t\tdisappointed   \n",
      "\t0.0246\t\t\tperfect        \n",
      "\t0.0224\t\t\tgood           \n",
      "\t0.0160\t\t\tbad            \n",
      "\t0.0154\t\t\texcellent      \n",
      "\t0.0126\t\t\tfavorite       \n",
      "\t0.0121\t\t\tnice           \n",
      "\t0.0112\t\t\twonderful      \n",
      "\t0.0098\t\t\tproduct        \n",
      "\t0.0093\t\t\tthought        \n",
      "\t0.0086\t\t\tstale          \n",
      "\t0.0082\t\t\tmoney          \n",
      "\t0.0076\t\t\teasy           \n",
      "\t0.0065\t\t\tstores         \n"
     ]
    }
   ],
   "source": [
    "#Reference for top features is from statistics of machine learning by pratap dangeti:\n",
    "#https://books.google.co.in/books?id=C-dDDwAAQBAJ&pg=PA216&lpg=PA216&dq=coefs_with_fns%5B:-(n+%2B+1):-1&source=bl&ots=j18t1prZXo&sig=ACfU3U2yz8v4v3SOiSrT7fBpJauJKe80DQ&hl=en&sa=X&ved=2ahUKEwjzwK69x6DjAhWx4XMBHYHqADIQ6AEwAXoECAgQAQ#v=onepage&q=coefs_with_fns%5B%3A-(n%20%2B%201)%3A-1&f=false\n",
    "n=20\n",
    "feature_names = count_vect.get_feature_names()\n",
    "coefs_with_fns = sorted(zip(clf.feature_importances_, feature_names))\n",
    "top_n_coefs = coefs_with_fns[:-(n + 1):-1]\n",
    "print(\"Feature_importance_scores\\tFeature_names\")\n",
    "print(\"------------------------------------------------------------\")\n",
    "for (coef_1, fn_1) in top_n_coefs:\n",
    "        print(\"\\t%.4f\\t\\t\\t%-15s\"% (coef_1, fn_1))"
   ]
  },
  {
   "cell_type": "markdown",
   "metadata": {
    "colab_type": "text",
    "id": "7JyitDTTiWOx"
   },
   "source": [
    "### [5.1.2] Graphviz visualization of Decision Tree on BOW,<font color='red'> SET 1</font>"
   ]
  },
  {
   "cell_type": "code",
   "execution_count": 43,
   "metadata": {
    "colab": {},
    "colab_type": "code",
    "id": "-jxU7zrAiWOy",
    "scrolled": false
   },
   "outputs": [
    {
     "data": {
      "image/svg+xml": [
       "<?xml version=\"1.0\" encoding=\"UTF-8\" standalone=\"no\"?>\r\n",
       "<!DOCTYPE svg PUBLIC \"-//W3C//DTD SVG 1.1//EN\"\r\n",
       " \"http://www.w3.org/Graphics/SVG/1.1/DTD/svg11.dtd\">\r\n",
       "<!-- Generated by graphviz version 2.38.0 (20140413.2041)\r\n",
       " -->\r\n",
       "<!-- Title: Tree Pages: 1 -->\r\n",
       "<svg width=\"781pt\" height=\"356pt\"\r\n",
       " viewBox=\"0.00 0.00 781.00 356.00\" xmlns=\"http://www.w3.org/2000/svg\" xmlns:xlink=\"http://www.w3.org/1999/xlink\">\r\n",
       "<g id=\"graph0\" class=\"graph\" transform=\"scale(1 1) rotate(0) translate(4 352)\">\r\n",
       "<title>Tree</title>\r\n",
       "<polygon fill=\"white\" stroke=\"none\" points=\"-4,4 -4,-352 777,-352 777,4 -4,4\"/>\r\n",
       "<!-- 0 -->\r\n",
       "<g id=\"node1\" class=\"node\"><title>0</title>\r\n",
       "<polygon fill=\"none\" stroke=\"black\" points=\"465.5,-348 299.5,-348 299.5,-280 465.5,-280 465.5,-348\"/>\r\n",
       "<text text-anchor=\"middle\" x=\"382.5\" y=\"-332.8\" font-family=\"Times New Roman,serif\" font-size=\"14.00\">not &lt;= 0.5</text>\r\n",
       "<text text-anchor=\"middle\" x=\"382.5\" y=\"-317.8\" font-family=\"Times New Roman,serif\" font-size=\"14.00\">gini = 0.5</text>\r\n",
       "<text text-anchor=\"middle\" x=\"382.5\" y=\"-302.8\" font-family=\"Times New Roman,serif\" font-size=\"14.00\">samples = 52665</text>\r\n",
       "<text text-anchor=\"middle\" x=\"382.5\" y=\"-287.8\" font-family=\"Times New Roman,serif\" font-size=\"14.00\">value = [26332.5, 26332.5]</text>\r\n",
       "</g>\r\n",
       "<!-- 1 -->\r\n",
       "<g id=\"node2\" class=\"node\"><title>1</title>\r\n",
       "<polygon fill=\"none\" stroke=\"black\" points=\"372,-244 193,-244 193,-176 372,-176 372,-244\"/>\r\n",
       "<text text-anchor=\"middle\" x=\"282.5\" y=\"-228.8\" font-family=\"Times New Roman,serif\" font-size=\"14.00\">great &lt;= 0.5</text>\r\n",
       "<text text-anchor=\"middle\" x=\"282.5\" y=\"-213.8\" font-family=\"Times New Roman,serif\" font-size=\"14.00\">gini = 0.446</text>\r\n",
       "<text text-anchor=\"middle\" x=\"282.5\" y=\"-198.8\" font-family=\"Times New Roman,serif\" font-size=\"14.00\">samples = 24882</text>\r\n",
       "<text text-anchor=\"middle\" x=\"282.5\" y=\"-183.8\" font-family=\"Times New Roman,serif\" font-size=\"14.00\">value = [6787.89, 13478.401]</text>\r\n",
       "</g>\r\n",
       "<!-- 0&#45;&gt;1 -->\r\n",
       "<g id=\"edge1\" class=\"edge\"><title>0&#45;&gt;1</title>\r\n",
       "<path fill=\"none\" stroke=\"black\" d=\"M350.033,-279.884C341.213,-270.887 331.559,-261.041 322.381,-251.678\"/>\r\n",
       "<polygon fill=\"black\" stroke=\"black\" points=\"324.646,-248.99 315.146,-244.299 319.648,-253.89 324.646,-248.99\"/>\r\n",
       "<text text-anchor=\"middle\" x=\"314.899\" y=\"-265.598\" font-family=\"Times New Roman,serif\" font-size=\"14.00\">True</text>\r\n",
       "</g>\r\n",
       "<!-- 638 -->\r\n",
       "<g id=\"node9\" class=\"node\"><title>638</title>\r\n",
       "<polygon fill=\"none\" stroke=\"black\" points=\"576.5,-244 390.5,-244 390.5,-176 576.5,-176 576.5,-244\"/>\r\n",
       "<text text-anchor=\"middle\" x=\"483.5\" y=\"-228.8\" font-family=\"Times New Roman,serif\" font-size=\"14.00\">great &lt;= 0.5</text>\r\n",
       "<text text-anchor=\"middle\" x=\"483.5\" y=\"-213.8\" font-family=\"Times New Roman,serif\" font-size=\"14.00\">gini = 0.479</text>\r\n",
       "<text text-anchor=\"middle\" x=\"483.5\" y=\"-198.8\" font-family=\"Times New Roman,serif\" font-size=\"14.00\">samples = 27783</text>\r\n",
       "<text text-anchor=\"middle\" x=\"483.5\" y=\"-183.8\" font-family=\"Times New Roman,serif\" font-size=\"14.00\">value = [19544.61, 12854.099]</text>\r\n",
       "</g>\r\n",
       "<!-- 0&#45;&gt;638 -->\r\n",
       "<g id=\"edge8\" class=\"edge\"><title>0&#45;&gt;638</title>\r\n",
       "<path fill=\"none\" stroke=\"black\" d=\"M415.292,-279.884C424.2,-270.887 433.95,-261.041 443.22,-251.678\"/>\r\n",
       "<polygon fill=\"black\" stroke=\"black\" points=\"445.978,-253.868 450.527,-244.299 441.004,-248.943 445.978,-253.868\"/>\r\n",
       "<text text-anchor=\"middle\" x=\"450.65\" y=\"-265.599\" font-family=\"Times New Roman,serif\" font-size=\"14.00\">False</text>\r\n",
       "</g>\r\n",
       "<!-- 2 -->\r\n",
       "<g id=\"node3\" class=\"node\"><title>2</title>\r\n",
       "<polygon fill=\"none\" stroke=\"black\" points=\"179,-140 0,-140 0,-72 179,-72 179,-140\"/>\r\n",
       "<text text-anchor=\"middle\" x=\"89.5\" y=\"-124.8\" font-family=\"Times New Roman,serif\" font-size=\"14.00\">disappointed &lt;= 0.5</text>\r\n",
       "<text text-anchor=\"middle\" x=\"89.5\" y=\"-109.8\" font-family=\"Times New Roman,serif\" font-size=\"14.00\">gini = 0.475</text>\r\n",
       "<text text-anchor=\"middle\" x=\"89.5\" y=\"-94.8\" font-family=\"Times New Roman,serif\" font-size=\"14.00\">samples = 18595</text>\r\n",
       "<text text-anchor=\"middle\" x=\"89.5\" y=\"-79.8\" font-family=\"Times New Roman,serif\" font-size=\"14.00\">value = [6265.497, 9853.902]</text>\r\n",
       "</g>\r\n",
       "<!-- 1&#45;&gt;2 -->\r\n",
       "<g id=\"edge2\" class=\"edge\"><title>1&#45;&gt;2</title>\r\n",
       "<path fill=\"none\" stroke=\"black\" d=\"M219.838,-175.884C201.12,-165.991 180.456,-155.07 161.204,-144.895\"/>\r\n",
       "<polygon fill=\"black\" stroke=\"black\" points=\"162.654,-141.703 152.177,-140.125 159.383,-147.892 162.654,-141.703\"/>\r\n",
       "</g>\r\n",
       "<!-- 509 -->\r\n",
       "<g id=\"node6\" class=\"node\"><title>509</title>\r\n",
       "<polygon fill=\"none\" stroke=\"black\" points=\"370,-140 197,-140 197,-72 370,-72 370,-140\"/>\r\n",
       "<text text-anchor=\"middle\" x=\"283.5\" y=\"-124.8\" font-family=\"Times New Roman,serif\" font-size=\"14.00\">unfortunately &lt;= 0.5</text>\r\n",
       "<text text-anchor=\"middle\" x=\"283.5\" y=\"-109.8\" font-family=\"Times New Roman,serif\" font-size=\"14.00\">gini = 0.22</text>\r\n",
       "<text text-anchor=\"middle\" x=\"283.5\" y=\"-94.8\" font-family=\"Times New Roman,serif\" font-size=\"14.00\">samples = 6287</text>\r\n",
       "<text text-anchor=\"middle\" x=\"283.5\" y=\"-79.8\" font-family=\"Times New Roman,serif\" font-size=\"14.00\">value = [522.393, 3624.499]</text>\r\n",
       "</g>\r\n",
       "<!-- 1&#45;&gt;509 -->\r\n",
       "<g id=\"edge5\" class=\"edge\"><title>1&#45;&gt;509</title>\r\n",
       "<path fill=\"none\" stroke=\"black\" d=\"M282.825,-175.884C282.904,-167.778 282.99,-158.982 283.074,-150.472\"/>\r\n",
       "<polygon fill=\"black\" stroke=\"black\" points=\"286.575,-150.333 283.174,-140.299 279.576,-150.265 286.575,-150.333\"/>\r\n",
       "</g>\r\n",
       "<!-- 3 -->\r\n",
       "<g id=\"node4\" class=\"node\"><title>3</title>\r\n",
       "<polygon fill=\"none\" stroke=\"black\" points=\"97.5,-36 43.5,-36 43.5,-0 97.5,-0 97.5,-36\"/>\r\n",
       "<text text-anchor=\"middle\" x=\"70.5\" y=\"-14.3\" font-family=\"Times New Roman,serif\" font-size=\"14.00\">(...)</text>\r\n",
       "</g>\r\n",
       "<!-- 2&#45;&gt;3 -->\r\n",
       "<g id=\"edge3\" class=\"edge\"><title>2&#45;&gt;3</title>\r\n",
       "<path fill=\"none\" stroke=\"black\" d=\"M82.2084,-71.9961C80.3247,-63.4699 78.3184,-54.3885 76.5085,-46.1962\"/>\r\n",
       "<polygon fill=\"black\" stroke=\"black\" points=\"79.9199,-45.4128 74.3449,-36.4034 73.0847,-46.923 79.9199,-45.4128\"/>\r\n",
       "</g>\r\n",
       "<!-- 508 -->\r\n",
       "<g id=\"node5\" class=\"node\"><title>508</title>\r\n",
       "<polygon fill=\"none\" stroke=\"black\" points=\"169.5,-36 115.5,-36 115.5,-0 169.5,-0 169.5,-36\"/>\r\n",
       "<text text-anchor=\"middle\" x=\"142.5\" y=\"-14.3\" font-family=\"Times New Roman,serif\" font-size=\"14.00\">(...)</text>\r\n",
       "</g>\r\n",
       "<!-- 2&#45;&gt;508 -->\r\n",
       "<g id=\"edge4\" class=\"edge\"><title>2&#45;&gt;508</title>\r\n",
       "<path fill=\"none\" stroke=\"black\" d=\"M109.84,-71.9961C115.328,-63.0909 121.189,-53.5802 126.409,-45.1093\"/>\r\n",
       "<polygon fill=\"black\" stroke=\"black\" points=\"129.508,-46.7529 131.775,-36.4034 123.548,-43.0803 129.508,-46.7529\"/>\r\n",
       "</g>\r\n",
       "<!-- 510 -->\r\n",
       "<g id=\"node7\" class=\"node\"><title>510</title>\r\n",
       "<polygon fill=\"none\" stroke=\"black\" points=\"257.5,-36 203.5,-36 203.5,-0 257.5,-0 257.5,-36\"/>\r\n",
       "<text text-anchor=\"middle\" x=\"230.5\" y=\"-14.3\" font-family=\"Times New Roman,serif\" font-size=\"14.00\">(...)</text>\r\n",
       "</g>\r\n",
       "<!-- 509&#45;&gt;510 -->\r\n",
       "<g id=\"edge6\" class=\"edge\"><title>509&#45;&gt;510</title>\r\n",
       "<path fill=\"none\" stroke=\"black\" d=\"M263.16,-71.9961C257.672,-63.0909 251.811,-53.5802 246.591,-45.1093\"/>\r\n",
       "<polygon fill=\"black\" stroke=\"black\" points=\"249.452,-43.0803 241.225,-36.4034 243.492,-46.7529 249.452,-43.0803\"/>\r\n",
       "</g>\r\n",
       "<!-- 637 -->\r\n",
       "<g id=\"node8\" class=\"node\"><title>637</title>\r\n",
       "<polygon fill=\"none\" stroke=\"black\" points=\"329.5,-36 275.5,-36 275.5,-0 329.5,-0 329.5,-36\"/>\r\n",
       "<text text-anchor=\"middle\" x=\"302.5\" y=\"-14.3\" font-family=\"Times New Roman,serif\" font-size=\"14.00\">(...)</text>\r\n",
       "</g>\r\n",
       "<!-- 509&#45;&gt;637 -->\r\n",
       "<g id=\"edge7\" class=\"edge\"><title>509&#45;&gt;637</title>\r\n",
       "<path fill=\"none\" stroke=\"black\" d=\"M290.792,-71.9961C292.675,-63.4699 294.682,-54.3885 296.492,-46.1962\"/>\r\n",
       "<polygon fill=\"black\" stroke=\"black\" points=\"299.915,-46.923 298.655,-36.4034 293.08,-45.4128 299.915,-46.923\"/>\r\n",
       "</g>\r\n",
       "<!-- 639 -->\r\n",
       "<g id=\"node10\" class=\"node\"><title>639</title>\r\n",
       "<polygon fill=\"none\" stroke=\"black\" points=\"575.5,-140 389.5,-140 389.5,-72 575.5,-72 575.5,-140\"/>\r\n",
       "<text text-anchor=\"middle\" x=\"482.5\" y=\"-124.8\" font-family=\"Times New Roman,serif\" font-size=\"14.00\">delicious &lt;= 0.5</text>\r\n",
       "<text text-anchor=\"middle\" x=\"482.5\" y=\"-109.8\" font-family=\"Times New Roman,serif\" font-size=\"14.00\">gini = 0.453</text>\r\n",
       "<text text-anchor=\"middle\" x=\"482.5\" y=\"-94.8\" font-family=\"Times New Roman,serif\" font-size=\"14.00\">samples = 21286</text>\r\n",
       "<text text-anchor=\"middle\" x=\"482.5\" y=\"-79.8\" font-family=\"Times New Roman,serif\" font-size=\"14.00\">value = [17664.638, 9354.461]</text>\r\n",
       "</g>\r\n",
       "<!-- 638&#45;&gt;639 -->\r\n",
       "<g id=\"edge9\" class=\"edge\"><title>638&#45;&gt;639</title>\r\n",
       "<path fill=\"none\" stroke=\"black\" d=\"M483.175,-175.884C483.096,-167.778 483.01,-158.982 482.926,-150.472\"/>\r\n",
       "<polygon fill=\"black\" stroke=\"black\" points=\"486.424,-150.265 482.826,-140.299 479.425,-150.333 486.424,-150.265\"/>\r\n",
       "</g>\r\n",
       "<!-- 1418 -->\r\n",
       "<g id=\"node13\" class=\"node\"><title>1418</title>\r\n",
       "<polygon fill=\"none\" stroke=\"black\" points=\"773,-140 594,-140 594,-72 773,-72 773,-140\"/>\r\n",
       "<text text-anchor=\"middle\" x=\"683.5\" y=\"-124.8\" font-family=\"Times New Roman,serif\" font-size=\"14.00\">not &lt;= 1.5</text>\r\n",
       "<text text-anchor=\"middle\" x=\"683.5\" y=\"-109.8\" font-family=\"Times New Roman,serif\" font-size=\"14.00\">gini = 0.455</text>\r\n",
       "<text text-anchor=\"middle\" x=\"683.5\" y=\"-94.8\" font-family=\"Times New Roman,serif\" font-size=\"14.00\">samples = 6497</text>\r\n",
       "<text text-anchor=\"middle\" x=\"683.5\" y=\"-79.8\" font-family=\"Times New Roman,serif\" font-size=\"14.00\">value = [1879.972, 3499.638]</text>\r\n",
       "</g>\r\n",
       "<!-- 638&#45;&gt;1418 -->\r\n",
       "<g id=\"edge12\" class=\"edge\"><title>638&#45;&gt;1418</title>\r\n",
       "<path fill=\"none\" stroke=\"black\" d=\"M548.434,-175.884C567.92,-165.946 589.439,-154.971 609.466,-144.757\"/>\r\n",
       "<polygon fill=\"black\" stroke=\"black\" points=\"611.231,-147.786 618.55,-140.125 608.051,-141.55 611.231,-147.786\"/>\r\n",
       "</g>\r\n",
       "<!-- 640 -->\r\n",
       "<g id=\"node11\" class=\"node\"><title>640</title>\r\n",
       "<polygon fill=\"none\" stroke=\"black\" points=\"473.5,-36 419.5,-36 419.5,-0 473.5,-0 473.5,-36\"/>\r\n",
       "<text text-anchor=\"middle\" x=\"446.5\" y=\"-14.3\" font-family=\"Times New Roman,serif\" font-size=\"14.00\">(...)</text>\r\n",
       "</g>\r\n",
       "<!-- 639&#45;&gt;640 -->\r\n",
       "<g id=\"edge10\" class=\"edge\"><title>639&#45;&gt;640</title>\r\n",
       "<path fill=\"none\" stroke=\"black\" d=\"M468.684,-71.9961C465.036,-63.2804 461.145,-53.9846 457.656,-45.6514\"/>\r\n",
       "<polygon fill=\"black\" stroke=\"black\" points=\"460.875,-44.2763 453.785,-36.4034 454.418,-46.9793 460.875,-44.2763\"/>\r\n",
       "</g>\r\n",
       "<!-- 1363 -->\r\n",
       "<g id=\"node12\" class=\"node\"><title>1363</title>\r\n",
       "<polygon fill=\"none\" stroke=\"black\" points=\"545.5,-36 491.5,-36 491.5,-0 545.5,-0 545.5,-36\"/>\r\n",
       "<text text-anchor=\"middle\" x=\"518.5\" y=\"-14.3\" font-family=\"Times New Roman,serif\" font-size=\"14.00\">(...)</text>\r\n",
       "</g>\r\n",
       "<!-- 639&#45;&gt;1363 -->\r\n",
       "<g id=\"edge11\" class=\"edge\"><title>639&#45;&gt;1363</title>\r\n",
       "<path fill=\"none\" stroke=\"black\" d=\"M496.316,-71.9961C499.964,-63.2804 503.855,-53.9846 507.344,-45.6514\"/>\r\n",
       "<polygon fill=\"black\" stroke=\"black\" points=\"510.582,-46.9793 511.215,-36.4034 504.125,-44.2763 510.582,-46.9793\"/>\r\n",
       "</g>\r\n",
       "<!-- 1419 -->\r\n",
       "<g id=\"node14\" class=\"node\"><title>1419</title>\r\n",
       "<polygon fill=\"none\" stroke=\"black\" points=\"674.5,-36 620.5,-36 620.5,-0 674.5,-0 674.5,-36\"/>\r\n",
       "<text text-anchor=\"middle\" x=\"647.5\" y=\"-14.3\" font-family=\"Times New Roman,serif\" font-size=\"14.00\">(...)</text>\r\n",
       "</g>\r\n",
       "<!-- 1418&#45;&gt;1419 -->\r\n",
       "<g id=\"edge13\" class=\"edge\"><title>1418&#45;&gt;1419</title>\r\n",
       "<path fill=\"none\" stroke=\"black\" d=\"M669.684,-71.9961C666.036,-63.2804 662.145,-53.9846 658.656,-45.6514\"/>\r\n",
       "<polygon fill=\"black\" stroke=\"black\" points=\"661.875,-44.2763 654.785,-36.4034 655.418,-46.9793 661.875,-44.2763\"/>\r\n",
       "</g>\r\n",
       "<!-- 1554 -->\r\n",
       "<g id=\"node15\" class=\"node\"><title>1554</title>\r\n",
       "<polygon fill=\"none\" stroke=\"black\" points=\"746.5,-36 692.5,-36 692.5,-0 746.5,-0 746.5,-36\"/>\r\n",
       "<text text-anchor=\"middle\" x=\"719.5\" y=\"-14.3\" font-family=\"Times New Roman,serif\" font-size=\"14.00\">(...)</text>\r\n",
       "</g>\r\n",
       "<!-- 1418&#45;&gt;1554 -->\r\n",
       "<g id=\"edge14\" class=\"edge\"><title>1418&#45;&gt;1554</title>\r\n",
       "<path fill=\"none\" stroke=\"black\" d=\"M697.316,-71.9961C700.964,-63.2804 704.855,-53.9846 708.344,-45.6514\"/>\r\n",
       "<polygon fill=\"black\" stroke=\"black\" points=\"711.582,-46.9793 712.215,-36.4034 705.125,-44.2763 711.582,-46.9793\"/>\r\n",
       "</g>\r\n",
       "</g>\r\n",
       "</svg>\r\n"
      ],
      "text/plain": [
       "<graphviz.files.Source at 0x2611cd77f0>"
      ]
     },
     "execution_count": 43,
     "metadata": {},
     "output_type": "execute_result"
    }
   ],
   "source": [
    "#https://stackoverflow.com/questions/27817994/visualizing-decision-tree-in-scikit-learn\n",
    "from sklearn import tree\n",
    "from graphviz import Source\n",
    "import graphviz\n",
    "feature_names = count_vect.get_feature_names() \n",
    "Source(tree.export_graphviz(clf, out_file = None, feature_names = feature_names,max_depth=2))"
   ]
  },
  {
   "cell_type": "markdown",
   "metadata": {
    "colab_type": "text",
    "id": "5przjMTbiWOz"
   },
   "source": [
    "## [5.2] Applying Decision Trees on TFIDF,<font color='red'> SET 2</font>"
   ]
  },
  {
   "cell_type": "code",
   "execution_count": 44,
   "metadata": {
    "colab": {},
    "colab_type": "code",
    "id": "Bm3mfI7miWOz"
   },
   "outputs": [],
   "source": [
    "#Spliting entire data to train,test and cross validation \n",
    "X=np.array(preprocessed_reviews)\n",
    "y = np.array(final['Score'])\n",
    "\n",
    "##https://scikit-learn.org/stable/modules/generated/sklearn.model_selection.TimeSeriesSplit.html\n",
    "tscv = TimeSeriesSplit(n_splits=4)\n",
    "for train_index, test_index in tscv.split(X):\n",
    "    X_1, X_test = X[train_index], X[test_index]\n",
    "    y_1, y_test = y[train_index], y[test_index]\n",
    "\n",
    "tscv = TimeSeriesSplit(n_splits=3)\n",
    "for train_index, test_index in tscv.split(X_1):\n",
    "    X_tr, X_cv = X_1[train_index], X_1[test_index]\n",
    "    y_tr, y_cv = y_1[train_index], y_1[test_index]\n",
    "\n",
    "#converting Reviews to Bag of words after splitting to avoid data leakage problem\n",
    "tf_idf_vect = TfidfVectorizer(ngram_range=(1,2),min_df=10,max_features=2000)\n",
    "final_X_tr=tf_idf_vect.fit_transform(X_tr)\n",
    "final_X_test=tf_idf_vect.transform(X_test)\n",
    "final_X_cv=tf_idf_vect.transform(X_cv)"
   ]
  },
  {
   "cell_type": "code",
   "execution_count": 45,
   "metadata": {},
   "outputs": [
    {
     "name": "stdout",
     "output_type": "stream",
     "text": [
      "50\n",
      "500\n"
     ]
    }
   ],
   "source": [
    "#Calculating for finding best min_splits and best depth \n",
    "#predic_proba reference:\n",
    "#https://stackoverflow.com/questions/37089177/probability-prediction-method-of-kneighborsclassifier-returns-only-0-and-1\n",
    "#https://discuss.analyticsvidhya.com/t/what-is-the-difference-between-predict-and-predict-proba/67376/3\n",
    "roc_tr=[]\n",
    "roc_cv=[]\n",
    "best_m=[]\n",
    "max_auc_score=0\n",
    "best_min_splits=0\n",
    "best_depth=0\n",
    "depths=[1,5,10,50,100,500,1000]\n",
    "min_samples_split=[5,10,100,500]\n",
    "for d in depths:\n",
    "    for m in min_samples_split:\n",
    "        \n",
    "        clf=DecisionTreeClassifier(max_depth=d,min_samples_split=m,class_weight='balanced')\n",
    "        # fitting the model on train data\n",
    "        clf.fit(final_X_tr,y_tr)\n",
    "        \n",
    "        # predict the response on the training data \n",
    "        pred_tr = clf.predict_proba(final_X_cv)\n",
    "        pred_tr=(pred_tr)[:,1]\n",
    "        roc_auc_score(y_cv,pred_tr)\n",
    "        \n",
    "        # predict the response on the crossvalidation \n",
    "        pred_cv = clf.predict_proba(final_X_cv)\n",
    "        pred_cv=(pred_cv)[:,1]\n",
    "        roc_auc_score(y_cv,pred_cv)\n",
    "        \n",
    "        if roc_auc_score(y_cv,pred_cv)>max_auc_score:\n",
    "            best_min_splits=m\n",
    "            max_auc_score=roc_auc_score(y_cv,pred_cv)      \n",
    "    clf=DecisionTreeClassifier(max_depth=d,min_samples_split=best_min_splits,class_weight='balanced')\n",
    "    # fitting the model on train data\n",
    "    clf.fit(final_X_tr,y_tr)\n",
    "    \n",
    "    # predict the response on the traininig\n",
    "    pred_tr = clf.predict_proba(final_X_tr)\n",
    "    pred_tr=(pred_tr)[:,1]\n",
    "    roc_tr.append(roc_auc_score(y_tr,pred_tr))\n",
    "    best_m.append(best_min_splits)\n",
    "   \n",
    "    # predict the response on the crossvalidation \n",
    "    pred_cv = clf.predict_proba(final_X_cv)\n",
    "    pred_cv=(pred_cv)[:,1]\n",
    "    roc_cv.append(roc_auc_score(y_cv,pred_cv))    \n",
    "\n",
    "    \n",
    "best_depth= depths[roc_cv.index(max(roc_cv))]\n",
    "best_min_samples_split=best_m[roc_cv.index(max(roc_cv))]\n",
    "print(best_depth)\n",
    "print(best_min_samples_split)\n",
    "best_depth_tfidf=best_depth\n",
    "best_min_samples_split_tfidf=best_min_samples_split\n",
    "auc_tfidf=max_auc_score"
   ]
  },
  {
   "cell_type": "code",
   "execution_count": 46,
   "metadata": {},
   "outputs": [
    {
     "data": {
      "image/png": "[encoded data removed]",
      "text/plain": [
       "<Figure size 432x288 with 1 Axes>"
      ]
     },
     "metadata": {
      "needs_background": "light"
     },
     "output_type": "display_data"
    }
   ],
   "source": [
    "# plotting curve between between AUC of cv and train\n",
    "plt.plot(depths,roc_tr,label=\"AUC-train\")\n",
    "plt.plot(depths,roc_cv ,label=\"AUC-cv\")\n",
    "plt.legend()\n",
    "plt.xlabel('depths')\n",
    "plt.ylabel('AUC')\n",
    "plt.title('AUC Score vs depths')\n",
    "plt.show()"
   ]
  },
  {
   "cell_type": "code",
   "execution_count": 47,
   "metadata": {},
   "outputs": [],
   "source": [
    "roc_tr_minsplits=[]\n",
    "roc_cv_minsplits=[]\n",
    "max_auc_score=0\n",
    "best_depth=0\n",
    "for m in min_samples_split:\n",
    "    for d in depths:\n",
    "      \n",
    "        clf=DecisionTreeClassifier(max_depth=d,min_samples_split=m,class_weight='balanced')\n",
    "        # fitting the model on train data\n",
    "        clf.fit(final_X_tr,y_tr)\n",
    "        \n",
    "        # predict the response on the training data \n",
    "        pred_tr = clf.predict_proba(final_X_cv)\n",
    "        pred_tr=(pred_tr)[:,1]\n",
    "        roc_auc_score(y_cv,pred_tr)\n",
    "        \n",
    "        # predict the response on the crossvalidation \n",
    "        pred_cv = clf.predict_proba(final_X_cv)\n",
    "        pred_cv=(pred_cv)[:,1]\n",
    "        roc_auc_score(y_cv,pred_cv)\n",
    "        \n",
    "        if roc_auc_score(y_cv,pred_cv)>max_auc_score:\n",
    "            best_depth=d\n",
    "            max_auc_score=roc_auc_score(y_cv,pred_cv)      \n",
    "    clf=DecisionTreeClassifier(max_depth=best_depth,min_samples_split=m,class_weight='balanced')\n",
    "    # fitting the model on train data\n",
    "    clf.fit(final_X_tr,y_tr)\n",
    "    \n",
    "    # predict the response on the traininig\n",
    "    pred_tr = clf.predict_proba(final_X_tr)\n",
    "    pred_tr=(pred_tr)[:,1]\n",
    "    roc_tr_minsplits.append(roc_auc_score(y_tr,pred_tr))\n",
    "    best_m.append(best_min_splits)\n",
    "   \n",
    "    # predict the response on the crossvalidation \n",
    "    pred_cv = clf.predict_proba(final_X_cv)\n",
    "    pred_cv=(pred_cv)[:,1]\n",
    "    roc_cv_minsplits.append(roc_auc_score(y_cv,pred_cv))\n"
   ]
  },
  {
   "cell_type": "code",
   "execution_count": 48,
   "metadata": {},
   "outputs": [
    {
     "data": {
      "image/png": "[encoded data removed]",
      "text/plain": [
       "<Figure size 432x288 with 1 Axes>"
      ]
     },
     "metadata": {
      "needs_background": "light"
     },
     "output_type": "display_data"
    }
   ],
   "source": [
    "# plotting curve between between AUC of cv and train\n",
    "plt.plot(min_samples_split,roc_tr_minsplits,label=\"AUC-train\")\n",
    "plt.plot(min_samples_split,roc_cv_minsplits ,label=\"AUC-cv\")\n",
    "plt.legend()\n",
    "plt.xlabel('min_splits')\n",
    "plt.ylabel('AUC')\n",
    "plt.title('AUC Score VS min_splits')\n",
    "plt.show()"
   ]
  },
  {
   "cell_type": "code",
   "execution_count": 49,
   "metadata": {},
   "outputs": [
    {
     "data": {
      "image/png": "[encoded data removed]",
      "text/plain": [
       "<Figure size 432x288 with 1 Axes>"
      ]
     },
     "metadata": {
      "needs_background": "light"
     },
     "output_type": "display_data"
    }
   ],
   "source": [
    "#1)Training the model using best min_splits and best depth   \n",
    "clf=DecisionTreeClassifier(max_depth=best_depth_bow,min_samples_split=best_min_samples_split_bow,class_weight='balanced')\n",
    "# fitting the model on train data\n",
    "clf.fit(final_X_tr,y_tr)\n",
    "#predicting probablity of success Training data\n",
    "pred_tr = clf.predict_proba(final_X_tr)\n",
    "pred_tr=(pred_tr)[:,1]\n",
    "#predicting probability of success on Test data\n",
    "pred_test = clf.predict_proba(final_X_test)\n",
    "pred_test=(pred_test)[:,1]\n",
    "\n",
    "#2)Plotting Roc Curve\n",
    "#Reference for finding fpr an tpr :\n",
    "#https://www.programcreek.com/python/example/81207/sklearn.metrics.roc_curve\n",
    "fpr_tr, tpr_tr, threshold_train = metrics.roc_curve(y_tr, pred_tr)\n",
    "fpr_test, tpr_test, threshold_test = metrics.roc_curve(y_test, pred_test)\n",
    "auc_tfidf=roc_auc_score(y_test,pred_test)\n",
    "plt.plot(fpr_test,tpr_test ,label='ROC on on Test data ,auc='+str(roc_auc_score(y_test,pred_test)))\n",
    "plt.plot(fpr_tr,tpr_tr ,label='ROC on on Train data ,auc='+str(roc_auc_score(y_tr,pred_tr)))\n",
    "plt.legend()\n",
    "plt.title('ROC on best depth and min_splits')\n",
    "plt.xlabel('FPR')\n",
    "plt.ylabel('TPR')\n",
    "plt.show()"
   ]
  },
  {
   "cell_type": "code",
   "execution_count": 51,
   "metadata": {
    "scrolled": true
   },
   "outputs": [
    {
     "data": {
      "text/plain": [
       "<matplotlib.axes._subplots.AxesSubplot at 0x26176424e0>"
      ]
     },
     "execution_count": 51,
     "metadata": {},
     "output_type": "execute_result"
    },
    {
     "data": {
      "image/png": "[encoded data removed]",
      "text/plain": [
       "<Figure size 432x288 with 2 Axes>"
      ]
     },
     "metadata": {
      "needs_background": "light"
     },
     "output_type": "display_data"
    }
   ],
   "source": [
    "#plotting the confusion matrix\n",
    "#Reference:\n",
    "#https://scikit-learn.org/stable/modules/generated/sklearn.metrics.confusion_matrix.html\n",
    "\n",
    "prediction=clf.predict(final_X_test)\n",
    "skplt.plot_confusion_matrix(y_test ,prediction)"
   ]
  },
  {
   "cell_type": "markdown",
   "metadata": {
    "colab_type": "text",
    "id": "PIKUCldjiWO0"
   },
   "source": [
    "### [5.2.1] Top 20 important features from<font color='red'> SET 2</font>"
   ]
  },
  {
   "cell_type": "code",
   "execution_count": 52,
   "metadata": {
    "colab": {},
    "colab_type": "code",
    "id": "p2P0iHQciWO1"
   },
   "outputs": [
    {
     "name": "stdout",
     "output_type": "stream",
     "text": [
      "Feature_importance_scores\tFeature_names\n",
      "------------------------------------------------------------\n",
      "\t0.1356\t\t\tnot            \n",
      "\t0.0947\t\t\tgreat          \n",
      "\t0.0412\t\t\tbest           \n",
      "\t0.0382\t\t\tdelicious      \n",
      "\t0.0299\t\t\tlove           \n",
      "\t0.0270\t\t\tdisappointed   \n",
      "\t0.0244\t\t\tperfect        \n",
      "\t0.0243\t\t\tgood           \n",
      "\t0.0233\t\t\tloves          \n",
      "\t0.0156\t\t\tbad            \n",
      "\t0.0148\t\t\texcellent      \n",
      "\t0.0126\t\t\twonderful      \n",
      "\t0.0125\t\t\tnice           \n",
      "\t0.0121\t\t\tfavorite       \n",
      "\t0.0112\t\t\tmoney          \n",
      "\t0.0095\t\t\tthought        \n",
      "\t0.0094\t\t\treviews        \n",
      "\t0.0089\t\t\tnot good       \n",
      "\t0.0080\t\t\thighly         \n",
      "\t0.0078\t\t\tterrible       \n"
     ]
    }
   ],
   "source": [
    "#Reference for top features is from statistics of machine learning by pratap dangeti:\n",
    "#https://books.google.co.in/books?id=C-dDDwAAQBAJ&pg=PA216&lpg=PA216&dq=coefs_with_fns%5B:-(n+%2B+1):-1&source=bl&ots=j18t1prZXo&sig=ACfU3U2yz8v4v3SOiSrT7fBpJauJKe80DQ&hl=en&sa=X&ved=2ahUKEwjzwK69x6DjAhWx4XMBHYHqADIQ6AEwAXoECAgQAQ#v=onepage&q=coefs_with_fns%5B%3A-(n%20%2B%201)%3A-1&f=false\n",
    "n=20\n",
    "feature_names = tf_idf_vect.get_feature_names()\n",
    "coefs_with_fns = sorted(zip(clf.feature_importances_, feature_names))\n",
    "top_n_coefs = coefs_with_fns[:-(n + 1):-1]\n",
    "print(\"Feature_importance_scores\\tFeature_names\")\n",
    "print(\"------------------------------------------------------------\")\n",
    "for (coef_1, fn_1) in top_n_coefs:\n",
    "        print(\"\\t%.4f\\t\\t\\t%-15s\"% (coef_1, fn_1))"
   ]
  },
  {
   "cell_type": "markdown",
   "metadata": {
    "colab_type": "text",
    "id": "RTZB9ipUiWO3"
   },
   "source": [
    "### [5.2.2] Graphviz visualization of Decision Tree on TFIDF,<font color='red'> SET 2</font>"
   ]
  },
  {
   "cell_type": "code",
   "execution_count": 53,
   "metadata": {
    "colab": {},
    "colab_type": "code",
    "id": "DMbZoPoTiWO4"
   },
   "outputs": [
    {
     "data": {
      "image/svg+xml": [
       "<?xml version=\"1.0\" encoding=\"UTF-8\" standalone=\"no\"?>\r\n",
       "<!DOCTYPE svg PUBLIC \"-//W3C//DTD SVG 1.1//EN\"\r\n",
       " \"http://www.w3.org/Graphics/SVG/1.1/DTD/svg11.dtd\">\r\n",
       "<!-- Generated by graphviz version 2.38.0 (20140413.2041)\r\n",
       " -->\r\n",
       "<!-- Title: Tree Pages: 1 -->\r\n",
       "<svg width=\"789pt\" height=\"356pt\"\r\n",
       " viewBox=\"0.00 0.00 788.50 356.00\" xmlns=\"http://www.w3.org/2000/svg\" xmlns:xlink=\"http://www.w3.org/1999/xlink\">\r\n",
       "<g id=\"graph0\" class=\"graph\" transform=\"scale(1 1) rotate(0) translate(4 352)\">\r\n",
       "<title>Tree</title>\r\n",
       "<polygon fill=\"white\" stroke=\"none\" points=\"-4,4 -4,-352 784.5,-352 784.5,4 -4,4\"/>\r\n",
       "<!-- 0 -->\r\n",
       "<g id=\"node1\" class=\"node\"><title>0</title>\r\n",
       "<polygon fill=\"none\" stroke=\"black\" points=\"473,-348 307,-348 307,-280 473,-280 473,-348\"/>\r\n",
       "<text text-anchor=\"middle\" x=\"390\" y=\"-332.8\" font-family=\"Times New Roman,serif\" font-size=\"14.00\">not &lt;= 0.031</text>\r\n",
       "<text text-anchor=\"middle\" x=\"390\" y=\"-317.8\" font-family=\"Times New Roman,serif\" font-size=\"14.00\">gini = 0.5</text>\r\n",
       "<text text-anchor=\"middle\" x=\"390\" y=\"-302.8\" font-family=\"Times New Roman,serif\" font-size=\"14.00\">samples = 52665</text>\r\n",
       "<text text-anchor=\"middle\" x=\"390\" y=\"-287.8\" font-family=\"Times New Roman,serif\" font-size=\"14.00\">value = [26332.5, 26332.5]</text>\r\n",
       "</g>\r\n",
       "<!-- 1 -->\r\n",
       "<g id=\"node2\" class=\"node\"><title>1</title>\r\n",
       "<polygon fill=\"none\" stroke=\"black\" points=\"379.5,-244 200.5,-244 200.5,-176 379.5,-176 379.5,-244\"/>\r\n",
       "<text text-anchor=\"middle\" x=\"290\" y=\"-228.8\" font-family=\"Times New Roman,serif\" font-size=\"14.00\">great &lt;= 0.078</text>\r\n",
       "<text text-anchor=\"middle\" x=\"290\" y=\"-213.8\" font-family=\"Times New Roman,serif\" font-size=\"14.00\">gini = 0.446</text>\r\n",
       "<text text-anchor=\"middle\" x=\"290\" y=\"-198.8\" font-family=\"Times New Roman,serif\" font-size=\"14.00\">samples = 25452</text>\r\n",
       "<text text-anchor=\"middle\" x=\"290\" y=\"-183.8\" font-family=\"Times New Roman,serif\" font-size=\"14.00\">value = [6974.92, 13781.379]</text>\r\n",
       "</g>\r\n",
       "<!-- 0&#45;&gt;1 -->\r\n",
       "<g id=\"edge1\" class=\"edge\"><title>0&#45;&gt;1</title>\r\n",
       "<path fill=\"none\" stroke=\"black\" d=\"M357.533,-279.884C348.713,-270.887 339.059,-261.041 329.881,-251.678\"/>\r\n",
       "<polygon fill=\"black\" stroke=\"black\" points=\"332.146,-248.99 322.646,-244.299 327.148,-253.89 332.146,-248.99\"/>\r\n",
       "<text text-anchor=\"middle\" x=\"322.399\" y=\"-265.598\" font-family=\"Times New Roman,serif\" font-size=\"14.00\">True</text>\r\n",
       "</g>\r\n",
       "<!-- 460 -->\r\n",
       "<g id=\"node9\" class=\"node\"><title>460</title>\r\n",
       "<polygon fill=\"none\" stroke=\"black\" points=\"584,-244 398,-244 398,-176 584,-176 584,-244\"/>\r\n",
       "<text text-anchor=\"middle\" x=\"491\" y=\"-228.8\" font-family=\"Times New Roman,serif\" font-size=\"14.00\">great &lt;= 0.026</text>\r\n",
       "<text text-anchor=\"middle\" x=\"491\" y=\"-213.8\" font-family=\"Times New Roman,serif\" font-size=\"14.00\">gini = 0.477</text>\r\n",
       "<text text-anchor=\"middle\" x=\"491\" y=\"-198.8\" font-family=\"Times New Roman,serif\" font-size=\"14.00\">samples = 27213</text>\r\n",
       "<text text-anchor=\"middle\" x=\"491\" y=\"-183.8\" font-family=\"Times New Roman,serif\" font-size=\"14.00\">value = [19357.58, 12551.121]</text>\r\n",
       "</g>\r\n",
       "<!-- 0&#45;&gt;460 -->\r\n",
       "<g id=\"edge8\" class=\"edge\"><title>0&#45;&gt;460</title>\r\n",
       "<path fill=\"none\" stroke=\"black\" d=\"M422.792,-279.884C431.7,-270.887 441.45,-261.041 450.72,-251.678\"/>\r\n",
       "<polygon fill=\"black\" stroke=\"black\" points=\"453.478,-253.868 458.027,-244.299 448.504,-248.943 453.478,-253.868\"/>\r\n",
       "<text text-anchor=\"middle\" x=\"458.15\" y=\"-265.599\" font-family=\"Times New Roman,serif\" font-size=\"14.00\">False</text>\r\n",
       "</g>\r\n",
       "<!-- 2 -->\r\n",
       "<g id=\"node3\" class=\"node\"><title>2</title>\r\n",
       "<polygon fill=\"none\" stroke=\"black\" points=\"186,-140 0,-140 0,-72 186,-72 186,-140\"/>\r\n",
       "<text text-anchor=\"middle\" x=\"93\" y=\"-124.8\" font-family=\"Times New Roman,serif\" font-size=\"14.00\">disappointed &lt;= 0.07</text>\r\n",
       "<text text-anchor=\"middle\" x=\"93\" y=\"-109.8\" font-family=\"Times New Roman,serif\" font-size=\"14.00\">gini = 0.473</text>\r\n",
       "<text text-anchor=\"middle\" x=\"93\" y=\"-94.8\" font-family=\"Times New Roman,serif\" font-size=\"14.00\">samples = 19947</text>\r\n",
       "<text text-anchor=\"middle\" x=\"93\" y=\"-79.8\" font-family=\"Times New Roman,serif\" font-size=\"14.00\">value = [6620.208, 10588.862]</text>\r\n",
       "</g>\r\n",
       "<!-- 1&#45;&gt;2 -->\r\n",
       "<g id=\"edge2\" class=\"edge\"><title>1&#45;&gt;2</title>\r\n",
       "<path fill=\"none\" stroke=\"black\" d=\"M226.04,-175.884C206.846,-165.946 185.65,-154.971 165.924,-144.757\"/>\r\n",
       "<polygon fill=\"black\" stroke=\"black\" points=\"167.466,-141.615 156.976,-140.125 164.247,-147.831 167.466,-141.615\"/>\r\n",
       "</g>\r\n",
       "<!-- 363 -->\r\n",
       "<g id=\"node6\" class=\"node\"><title>363</title>\r\n",
       "<polygon fill=\"none\" stroke=\"black\" points=\"377.5,-140 204.5,-140 204.5,-72 377.5,-72 377.5,-140\"/>\r\n",
       "<text text-anchor=\"middle\" x=\"291\" y=\"-124.8\" font-family=\"Times New Roman,serif\" font-size=\"14.00\">unfortunately &lt;= 0.147</text>\r\n",
       "<text text-anchor=\"middle\" x=\"291\" y=\"-109.8\" font-family=\"Times New Roman,serif\" font-size=\"14.00\">gini = 0.18</text>\r\n",
       "<text text-anchor=\"middle\" x=\"291\" y=\"-94.8\" font-family=\"Times New Roman,serif\" font-size=\"14.00\">samples = 5505</text>\r\n",
       "<text text-anchor=\"middle\" x=\"291\" y=\"-79.8\" font-family=\"Times New Roman,serif\" font-size=\"14.00\">value = [354.712, 3192.518]</text>\r\n",
       "</g>\r\n",
       "<!-- 1&#45;&gt;363 -->\r\n",
       "<g id=\"edge5\" class=\"edge\"><title>1&#45;&gt;363</title>\r\n",
       "<path fill=\"none\" stroke=\"black\" d=\"M290.325,-175.884C290.404,-167.778 290.49,-158.982 290.574,-150.472\"/>\r\n",
       "<polygon fill=\"black\" stroke=\"black\" points=\"294.075,-150.333 290.674,-140.299 287.076,-150.265 294.075,-150.333\"/>\r\n",
       "</g>\r\n",
       "<!-- 3 -->\r\n",
       "<g id=\"node4\" class=\"node\"><title>3</title>\r\n",
       "<polygon fill=\"none\" stroke=\"black\" points=\"102,-36 48,-36 48,-0 102,-0 102,-36\"/>\r\n",
       "<text text-anchor=\"middle\" x=\"75\" y=\"-14.3\" font-family=\"Times New Roman,serif\" font-size=\"14.00\">(...)</text>\r\n",
       "</g>\r\n",
       "<!-- 2&#45;&gt;3 -->\r\n",
       "<g id=\"edge3\" class=\"edge\"><title>2&#45;&gt;3</title>\r\n",
       "<path fill=\"none\" stroke=\"black\" d=\"M86.0922,-71.9961C84.3076,-63.4699 82.4069,-54.3885 80.6922,-46.1962\"/>\r\n",
       "<polygon fill=\"black\" stroke=\"black\" points=\"84.117,-45.4742 78.6426,-36.4034 77.2655,-46.9083 84.117,-45.4742\"/>\r\n",
       "</g>\r\n",
       "<!-- 362 -->\r\n",
       "<g id=\"node5\" class=\"node\"><title>362</title>\r\n",
       "<polygon fill=\"none\" stroke=\"black\" points=\"174,-36 120,-36 120,-0 174,-0 174,-36\"/>\r\n",
       "<text text-anchor=\"middle\" x=\"147\" y=\"-14.3\" font-family=\"Times New Roman,serif\" font-size=\"14.00\">(...)</text>\r\n",
       "</g>\r\n",
       "<!-- 2&#45;&gt;362 -->\r\n",
       "<g id=\"edge4\" class=\"edge\"><title>2&#45;&gt;362</title>\r\n",
       "<path fill=\"none\" stroke=\"black\" d=\"M113.723,-71.9961C119.315,-63.0909 125.287,-53.5802 130.606,-45.1093\"/>\r\n",
       "<polygon fill=\"black\" stroke=\"black\" points=\"133.719,-46.7335 136.072,-36.4034 127.79,-43.0111 133.719,-46.7335\"/>\r\n",
       "</g>\r\n",
       "<!-- 364 -->\r\n",
       "<g id=\"node7\" class=\"node\"><title>364</title>\r\n",
       "<polygon fill=\"none\" stroke=\"black\" points=\"264,-36 210,-36 210,-0 264,-0 264,-36\"/>\r\n",
       "<text text-anchor=\"middle\" x=\"237\" y=\"-14.3\" font-family=\"Times New Roman,serif\" font-size=\"14.00\">(...)</text>\r\n",
       "</g>\r\n",
       "<!-- 363&#45;&gt;364 -->\r\n",
       "<g id=\"edge6\" class=\"edge\"><title>363&#45;&gt;364</title>\r\n",
       "<path fill=\"none\" stroke=\"black\" d=\"M270.277,-71.9961C264.685,-63.0909 258.713,-53.5802 253.394,-45.1093\"/>\r\n",
       "<polygon fill=\"black\" stroke=\"black\" points=\"256.21,-43.0111 247.928,-36.4034 250.281,-46.7335 256.21,-43.0111\"/>\r\n",
       "</g>\r\n",
       "<!-- 459 -->\r\n",
       "<g id=\"node8\" class=\"node\"><title>459</title>\r\n",
       "<polygon fill=\"none\" stroke=\"black\" points=\"336,-36 282,-36 282,-0 336,-0 336,-36\"/>\r\n",
       "<text text-anchor=\"middle\" x=\"309\" y=\"-14.3\" font-family=\"Times New Roman,serif\" font-size=\"14.00\">(...)</text>\r\n",
       "</g>\r\n",
       "<!-- 363&#45;&gt;459 -->\r\n",
       "<g id=\"edge7\" class=\"edge\"><title>363&#45;&gt;459</title>\r\n",
       "<path fill=\"none\" stroke=\"black\" d=\"M297.908,-71.9961C299.692,-63.4699 301.593,-54.3885 303.308,-46.1962\"/>\r\n",
       "<polygon fill=\"black\" stroke=\"black\" points=\"306.734,-46.9083 305.357,-36.4034 299.883,-45.4742 306.734,-46.9083\"/>\r\n",
       "</g>\r\n",
       "<!-- 461 -->\r\n",
       "<g id=\"node10\" class=\"node\"><title>461</title>\r\n",
       "<polygon fill=\"none\" stroke=\"black\" points=\"583,-140 397,-140 397,-72 583,-72 583,-140\"/>\r\n",
       "<text text-anchor=\"middle\" x=\"490\" y=\"-124.8\" font-family=\"Times New Roman,serif\" font-size=\"14.00\">delicious &lt;= 0.017</text>\r\n",
       "<text text-anchor=\"middle\" x=\"490\" y=\"-109.8\" font-family=\"Times New Roman,serif\" font-size=\"14.00\">gini = 0.451</text>\r\n",
       "<text text-anchor=\"middle\" x=\"490\" y=\"-94.8\" font-family=\"Times New Roman,serif\" font-size=\"14.00\">samples = 20975</text>\r\n",
       "<text text-anchor=\"middle\" x=\"490\" y=\"-79.8\" font-family=\"Times New Roman,serif\" font-size=\"14.00\">value = [17577.573, 9186.403]</text>\r\n",
       "</g>\r\n",
       "<!-- 460&#45;&gt;461 -->\r\n",
       "<g id=\"edge9\" class=\"edge\"><title>460&#45;&gt;461</title>\r\n",
       "<path fill=\"none\" stroke=\"black\" d=\"M490.675,-175.884C490.596,-167.778 490.51,-158.982 490.426,-150.472\"/>\r\n",
       "<polygon fill=\"black\" stroke=\"black\" points=\"493.924,-150.265 490.326,-140.299 486.925,-150.333 493.924,-150.265\"/>\r\n",
       "</g>\r\n",
       "<!-- 988 -->\r\n",
       "<g id=\"node13\" class=\"node\"><title>988</title>\r\n",
       "<polygon fill=\"none\" stroke=\"black\" points=\"780.5,-140 601.5,-140 601.5,-72 780.5,-72 780.5,-140\"/>\r\n",
       "<text text-anchor=\"middle\" x=\"691\" y=\"-124.8\" font-family=\"Times New Roman,serif\" font-size=\"14.00\">reviews &lt;= 0.064</text>\r\n",
       "<text text-anchor=\"middle\" x=\"691\" y=\"-109.8\" font-family=\"Times New Roman,serif\" font-size=\"14.00\">gini = 0.453</text>\r\n",
       "<text text-anchor=\"middle\" x=\"691\" y=\"-94.8\" font-family=\"Times New Roman,serif\" font-size=\"14.00\">samples = 6238</text>\r\n",
       "<text text-anchor=\"middle\" x=\"691\" y=\"-79.8\" font-family=\"Times New Roman,serif\" font-size=\"14.00\">value = [1780.007, 3364.718]</text>\r\n",
       "</g>\r\n",
       "<!-- 460&#45;&gt;988 -->\r\n",
       "<g id=\"edge12\" class=\"edge\"><title>460&#45;&gt;988</title>\r\n",
       "<path fill=\"none\" stroke=\"black\" d=\"M555.934,-175.884C575.42,-165.946 596.939,-154.971 616.966,-144.757\"/>\r\n",
       "<polygon fill=\"black\" stroke=\"black\" points=\"618.731,-147.786 626.05,-140.125 615.551,-141.55 618.731,-147.786\"/>\r\n",
       "</g>\r\n",
       "<!-- 462 -->\r\n",
       "<g id=\"node11\" class=\"node\"><title>462</title>\r\n",
       "<polygon fill=\"none\" stroke=\"black\" points=\"481,-36 427,-36 427,-0 481,-0 481,-36\"/>\r\n",
       "<text text-anchor=\"middle\" x=\"454\" y=\"-14.3\" font-family=\"Times New Roman,serif\" font-size=\"14.00\">(...)</text>\r\n",
       "</g>\r\n",
       "<!-- 461&#45;&gt;462 -->\r\n",
       "<g id=\"edge10\" class=\"edge\"><title>461&#45;&gt;462</title>\r\n",
       "<path fill=\"none\" stroke=\"black\" d=\"M476.184,-71.9961C472.536,-63.2804 468.645,-53.9846 465.156,-45.6514\"/>\r\n",
       "<polygon fill=\"black\" stroke=\"black\" points=\"468.375,-44.2763 461.285,-36.4034 461.918,-46.9793 468.375,-44.2763\"/>\r\n",
       "</g>\r\n",
       "<!-- 945 -->\r\n",
       "<g id=\"node12\" class=\"node\"><title>945</title>\r\n",
       "<polygon fill=\"none\" stroke=\"black\" points=\"553,-36 499,-36 499,-0 553,-0 553,-36\"/>\r\n",
       "<text text-anchor=\"middle\" x=\"526\" y=\"-14.3\" font-family=\"Times New Roman,serif\" font-size=\"14.00\">(...)</text>\r\n",
       "</g>\r\n",
       "<!-- 461&#45;&gt;945 -->\r\n",
       "<g id=\"edge11\" class=\"edge\"><title>461&#45;&gt;945</title>\r\n",
       "<path fill=\"none\" stroke=\"black\" d=\"M503.816,-71.9961C507.464,-63.2804 511.355,-53.9846 514.844,-45.6514\"/>\r\n",
       "<polygon fill=\"black\" stroke=\"black\" points=\"518.082,-46.9793 518.715,-36.4034 511.625,-44.2763 518.082,-46.9793\"/>\r\n",
       "</g>\r\n",
       "<!-- 989 -->\r\n",
       "<g id=\"node14\" class=\"node\"><title>989</title>\r\n",
       "<polygon fill=\"none\" stroke=\"black\" points=\"682,-36 628,-36 628,-0 682,-0 682,-36\"/>\r\n",
       "<text text-anchor=\"middle\" x=\"655\" y=\"-14.3\" font-family=\"Times New Roman,serif\" font-size=\"14.00\">(...)</text>\r\n",
       "</g>\r\n",
       "<!-- 988&#45;&gt;989 -->\r\n",
       "<g id=\"edge13\" class=\"edge\"><title>988&#45;&gt;989</title>\r\n",
       "<path fill=\"none\" stroke=\"black\" d=\"M677.184,-71.9961C673.536,-63.2804 669.645,-53.9846 666.156,-45.6514\"/>\r\n",
       "<polygon fill=\"black\" stroke=\"black\" points=\"669.375,-44.2763 662.285,-36.4034 662.918,-46.9793 669.375,-44.2763\"/>\r\n",
       "</g>\r\n",
       "<!-- 1154 -->\r\n",
       "<g id=\"node15\" class=\"node\"><title>1154</title>\r\n",
       "<polygon fill=\"none\" stroke=\"black\" points=\"754,-36 700,-36 700,-0 754,-0 754,-36\"/>\r\n",
       "<text text-anchor=\"middle\" x=\"727\" y=\"-14.3\" font-family=\"Times New Roman,serif\" font-size=\"14.00\">(...)</text>\r\n",
       "</g>\r\n",
       "<!-- 988&#45;&gt;1154 -->\r\n",
       "<g id=\"edge14\" class=\"edge\"><title>988&#45;&gt;1154</title>\r\n",
       "<path fill=\"none\" stroke=\"black\" d=\"M704.816,-71.9961C708.464,-63.2804 712.355,-53.9846 715.844,-45.6514\"/>\r\n",
       "<polygon fill=\"black\" stroke=\"black\" points=\"719.082,-46.9793 719.715,-36.4034 712.625,-44.2763 719.082,-46.9793\"/>\r\n",
       "</g>\r\n",
       "</g>\r\n",
       "</svg>\r\n"
      ],
      "text/plain": [
       "<graphviz.files.Source at 0x261814bd30>"
      ]
     },
     "execution_count": 53,
     "metadata": {},
     "output_type": "execute_result"
    }
   ],
   "source": [
    "#https://stackoverflow.com/questions/27817994/visualizing-decision-tree-in-scikit-learn\n",
    "from sklearn import tree\n",
    "from graphviz import Source\n",
    "import graphviz\n",
    "feat = tf_idf_vect.get_feature_names() \n",
    "Source(tree.export_graphviz(clf, out_file = None, feature_names = feat,max_depth=2))"
   ]
  },
  {
   "cell_type": "markdown",
   "metadata": {
    "colab_type": "text",
    "id": "NVhl_V6MiWO5"
   },
   "source": [
    "## [5.3] Applying Decision Trees on AVG W2V,<font color='red'> SET 3</font>"
   ]
  },
  {
   "cell_type": "code",
   "execution_count": 54,
   "metadata": {
    "colab": {},
    "colab_type": "code",
    "id": "uYDXnzMmiWO5"
   },
   "outputs": [
    {
     "name": "stderr",
     "output_type": "stream",
     "text": [
      "100%|███████████████████████████████████| 43008/43008 [02:34<00:00, 278.82it/s]\n",
      "100%|███████████████████████████████████| 18433/18433 [00:58<00:00, 312.47it/s]\n",
      "100%|███████████████████████████████████| 26332/26332 [01:27<00:00, 302.31it/s]\n"
     ]
    }
   ],
   "source": [
    "#Spliting entire data to train,test and cross validation \n",
    "X=np.array(preprocessed_reviews)\n",
    "y = np.array(final['Score'])\n",
    "\n",
    "## split the data set into train and test\n",
    "X_1, X_test, y_1, y_test = train_test_split(X, y, test_size=0.3, random_state=1)\n",
    "\n",
    "# split the train data set into cross validation train and cross validation test\n",
    "X_tr, X_cv, y_tr, y_cv = train_test_split(X_1, y_1, test_size=0.3,random_state=1) \n",
    "\n",
    "#converting Reviews to Bag of words after splitting to avoid data leakage problem\n",
    "count_vect = CountVectorizer(min_df=10,max_features=5000)\n",
    "final_X_tr=count_vect.fit_transform(X_tr)\n",
    "final_X_test=count_vect.transform(X_test)\n",
    "final_X_cv=count_vect.transform(X_cv)\n",
    "\n",
    "# average Word2Vec\n",
    "# compute average word2vec for each review.\n",
    "list_of_sentance_tr=[]\n",
    "for sentance in X_tr:\n",
    "    list_of_sentance_tr.append(sentance.split())\n",
    "final_X_tr = []; # the avg-w2v for each sentence/review is stored in this list\n",
    "for sent in tqdm(list_of_sentance_tr): # for each review/sentence\n",
    "    sent_vec = np.zeros(50) # as word vectors are of zero length 50, you might need to change this to 300 if you use google's w2v\n",
    "    cnt_words =0; # num of words with a valid vector in the sentence/review\n",
    "    for word in sent: # for each word in a review/sentence\n",
    "        if word in w2v_words:\n",
    "            vec = w2v_model.wv[word]\n",
    "            sent_vec += vec\n",
    "            cnt_words += 1\n",
    "    if cnt_words != 0:\n",
    "        sent_vec /= cnt_words\n",
    "    final_X_tr.append(sent_vec)\n",
    "    \n",
    "    \n",
    "list_of_sentance_cv=[]\n",
    "for sentance in X_cv:\n",
    "    list_of_sentance_cv.append(sentance.split())    \n",
    "final_X_cv = []; # the avg-w2v for each sentence/review is stored in this list\n",
    "for sent in tqdm(list_of_sentance_cv): # for each review/sentence\n",
    "    sent_vec = np.zeros(50) # as word vectors are of zero length 50, you might need to change this to 300 if you use google's w2v\n",
    "    cnt_words =0; # num of words with a valid vector in the sentence/review\n",
    "    for word in sent: # for each word in a review/sentence\n",
    "        if word in w2v_words:\n",
    "            vec = w2v_model.wv[word]\n",
    "            sent_vec += vec\n",
    "            cnt_words += 1\n",
    "    if cnt_words != 0:\n",
    "        sent_vec /= cnt_words\n",
    "    final_X_cv.append(sent_vec)    \n",
    "    \n",
    "    \n",
    "list_of_sentance_test=[]\n",
    "for sentance in X_test:\n",
    "    list_of_sentance_test.append(sentance.split())    \n",
    "final_X_test = []; # the avg-w2v for each sentence/review is stored in this list\n",
    "for sent in tqdm(list_of_sentance_test): # for each review/sentence\n",
    "    sent_vec = np.zeros(50) # as word vectors are of zero length 50, you might need to change this to 300 if you use google's w2v\n",
    "    cnt_words =0; # num of words with a valid vector in the sentence/review\n",
    "    for word in sent: # for each word in a review/sentence\n",
    "        if word in w2v_words:\n",
    "            vec = w2v_model.wv[word]\n",
    "            sent_vec += vec\n",
    "            cnt_words += 1\n",
    "    if cnt_words != 0:\n",
    "        sent_vec /= cnt_words\n",
    "    final_X_test.append(sent_vec)"
   ]
  },
  {
   "cell_type": "code",
   "execution_count": 55,
   "metadata": {},
   "outputs": [
    {
     "name": "stdout",
     "output_type": "stream",
     "text": [
      "10\n",
      "500\n"
     ]
    }
   ],
   "source": [
    "#Calculating for finding best min_splits and best depth   \n",
    "#predic_proba reference:\n",
    "#https://stackoverflow.com/questions/37089177/probability-prediction-method-of-kneighborsclassifier-returns-only-0-and-1\n",
    "#https://discuss.analyticsvidhya.com/t/what-is-the-difference-between-predict-and-predict-proba/67376/3\n",
    "roc_tr=[]\n",
    "roc_cv=[]\n",
    "best_m=[]\n",
    "max_auc_score=0\n",
    "best_min_splits=0\n",
    "best_depth=0\n",
    "depths=[1,5,10,50,100,500,1000]\n",
    "min_samples_split=[5,10,100,500]\n",
    "for d in depths:\n",
    "    for m in min_samples_split:\n",
    "        \n",
    "        clf=DecisionTreeClassifier(max_depth=d,min_samples_split=m,class_weight='balanced')\n",
    "        # fitting the model on train data\n",
    "        clf.fit(final_X_tr,y_tr)\n",
    "        \n",
    "        # predict the response on the training data \n",
    "        pred_tr = clf.predict_proba(final_X_cv)\n",
    "        pred_tr=(pred_tr)[:,1]\n",
    "        roc_auc_score(y_cv,pred_tr)\n",
    "        \n",
    "        # predict the response on the crossvalidation \n",
    "        pred_cv = clf.predict_proba(final_X_cv)\n",
    "        pred_cv=(pred_cv)[:,1]\n",
    "        roc_auc_score(y_cv,pred_cv)\n",
    "        \n",
    "        if roc_auc_score(y_cv,pred_cv)>max_auc_score:\n",
    "            best_min_splits=m\n",
    "            max_auc_score=roc_auc_score(y_cv,pred_cv)      \n",
    "    clf=DecisionTreeClassifier(max_depth=d,min_samples_split=best_min_splits,class_weight='balanced')\n",
    "    # fitting the model on train data\n",
    "    clf.fit(final_X_tr,y_tr)\n",
    "    \n",
    "    # predict the response on the traininig\n",
    "    pred_tr = clf.predict_proba(final_X_tr)\n",
    "    pred_tr=(pred_tr)[:,1]\n",
    "    roc_tr.append(roc_auc_score(y_tr,pred_tr))\n",
    "    best_m.append(best_min_splits)\n",
    "   \n",
    "    # predict the response on the crossvalidation \n",
    "    pred_cv = clf.predict_proba(final_X_cv)\n",
    "    pred_cv=(pred_cv)[:,1]\n",
    "    roc_cv.append(roc_auc_score(y_cv,pred_cv))    \n",
    "\n",
    "    \n",
    "best_depth= depths[roc_cv.index(max(roc_cv))]\n",
    "best_min_samples_split=best_m[roc_cv.index(max(roc_cv))]\n",
    "print(best_depth)\n",
    "print(best_min_samples_split)\n",
    "best_depth_avgw2v=best_depth\n",
    "best_min_samples_split_avgw2v=best_min_samples_split"
   ]
  },
  {
   "cell_type": "code",
   "execution_count": 56,
   "metadata": {},
   "outputs": [
    {
     "data": {
      "image/png": "[encoded data removed]",
      "text/plain": [
       "<Figure size 432x288 with 1 Axes>"
      ]
     },
     "metadata": {
      "needs_background": "light"
     },
     "output_type": "display_data"
    }
   ],
   "source": [
    "# plotting curve between between AUC of cv and train\n",
    "plt.plot(depths,roc_tr,label=\"AUC-train\")\n",
    "plt.plot(depths,roc_cv ,label=\"AUC-cv\")\n",
    "plt.legend()\n",
    "plt.xlabel('depths')\n",
    "plt.ylabel('AUC')\n",
    "plt.title('AUC Score vs depths')\n",
    "plt.show()"
   ]
  },
  {
   "cell_type": "code",
   "execution_count": 57,
   "metadata": {},
   "outputs": [],
   "source": [
    "roc_tr_minsplits=[]\n",
    "roc_cv_minsplits=[]\n",
    "max_auc_score=0\n",
    "best_depth=0\n",
    "for m in min_samples_split:\n",
    "    for d in depths:\n",
    "      \n",
    "        clf=DecisionTreeClassifier(max_depth=d,min_samples_split=m,class_weight='balanced')\n",
    "        # fitting the model on train data\n",
    "        clf.fit(final_X_tr,y_tr)\n",
    "        \n",
    "        # predict the response on the training data \n",
    "        pred_tr = clf.predict_proba(final_X_cv)\n",
    "        pred_tr=(pred_tr)[:,1]\n",
    "        roc_auc_score(y_cv,pred_tr)\n",
    "        \n",
    "        # predict the response on the crossvalidation \n",
    "        pred_cv = clf.predict_proba(final_X_cv)\n",
    "        pred_cv=(pred_cv)[:,1]\n",
    "        roc_auc_score(y_cv,pred_cv)\n",
    "        \n",
    "        if roc_auc_score(y_cv,pred_cv)>max_auc_score:\n",
    "            best_depth=d\n",
    "            max_auc_score=roc_auc_score(y_cv,pred_cv)      \n",
    "    clf=DecisionTreeClassifier(max_depth=best_depth,min_samples_split=m,class_weight='balanced')\n",
    "    # fitting the model on train data\n",
    "    clf.fit(final_X_tr,y_tr)\n",
    "    \n",
    "    # predict the response on the traininig\n",
    "    pred_tr = clf.predict_proba(final_X_tr)\n",
    "    pred_tr=(pred_tr)[:,1]\n",
    "    roc_tr_minsplits.append(roc_auc_score(y_tr,pred_tr))\n",
    "    best_m.append(best_min_splits)\n",
    "   \n",
    "    # predict the response on the crossvalidation \n",
    "    pred_cv = clf.predict_proba(final_X_cv)\n",
    "    pred_cv=(pred_cv)[:,1]\n",
    "    roc_cv_minsplits.append(roc_auc_score(y_cv,pred_cv))\n"
   ]
  },
  {
   "cell_type": "code",
   "execution_count": 58,
   "metadata": {},
   "outputs": [
    {
     "data": {
      "image/png": "[encoded data removed]",
      "text/plain": [
       "<Figure size 432x288 with 1 Axes>"
      ]
     },
     "metadata": {
      "needs_background": "light"
     },
     "output_type": "display_data"
    }
   ],
   "source": [
    "# plotting curve between between AUC of cv and train\n",
    "plt.plot(min_samples_split,roc_tr_minsplits,label=\"AUC-train\")\n",
    "plt.plot(min_samples_split,roc_cv_minsplits ,label=\"AUC-cv\")\n",
    "plt.legend()\n",
    "plt.xlabel('min_splits')\n",
    "plt.ylabel('AUC')\n",
    "plt.title('AUC Score VS min_splits')\n",
    "plt.show()"
   ]
  },
  {
   "cell_type": "code",
   "execution_count": 59,
   "metadata": {},
   "outputs": [
    {
     "data": {
      "image/png": "[encoded data removed]",
      "text/plain": [
       "<Figure size 432x288 with 1 Axes>"
      ]
     },
     "metadata": {
      "needs_background": "light"
     },
     "output_type": "display_data"
    }
   ],
   "source": [
    "#1)Training the model using best min_splits and best depth   \n",
    "clf=DecisionTreeClassifier(max_depth=best_depth_bow,min_samples_split=best_min_samples_split_bow,class_weight='balanced')\n",
    "# fitting the model on train data\n",
    "clf.fit(final_X_tr,y_tr)\n",
    "#predicting probablity of success Training data\n",
    "pred_tr = clf.predict_proba(final_X_tr)\n",
    "pred_tr=(pred_tr)[:,1]\n",
    "#predicting probability of success on Test data\n",
    "pred_test = clf.predict_proba(final_X_test)\n",
    "pred_test=(pred_test)[:,1]\n",
    "\n",
    "#2)Plotting Roc Curve\n",
    "#Reference for finding fpr an tpr :\n",
    "#https://www.programcreek.com/python/example/81207/sklearn.metrics.roc_curve\n",
    "fpr_tr, tpr_tr, threshold_train = metrics.roc_curve(y_tr, pred_tr)\n",
    "fpr_test, tpr_test, threshold_test = metrics.roc_curve(y_test, pred_test)\n",
    "auc_avgw2v=roc_auc_score(y_test,pred_test)\n",
    "plt.plot(fpr_test,tpr_test ,label='ROC on on Test data ,auc='+str(roc_auc_score(y_test,pred_test)))\n",
    "plt.plot(fpr_tr,tpr_tr ,label='ROC on on Train data ,auc='+str(roc_auc_score(y_tr,pred_tr)))\n",
    "plt.legend()\n",
    "plt.title('ROC on best depth and min_splits')\n",
    "plt.xlabel('FPR')\n",
    "plt.ylabel('TPR')\n",
    "plt.show()"
   ]
  },
  {
   "cell_type": "code",
   "execution_count": 60,
   "metadata": {},
   "outputs": [
    {
     "data": {
      "text/plain": [
       "<matplotlib.axes._subplots.AxesSubplot at 0x26283bd860>"
      ]
     },
     "execution_count": 60,
     "metadata": {},
     "output_type": "execute_result"
    },
    {
     "data": {
      "image/png": "[encoded data removed]",
      "text/plain": [
       "<Figure size 432x288 with 2 Axes>"
      ]
     },
     "metadata": {
      "needs_background": "light"
     },
     "output_type": "display_data"
    }
   ],
   "source": [
    "#plotting the confusion matrix\n",
    "#Reference:\n",
    "#https://scikit-learn.org/stable/modules/generated/sklearn.metrics.confusion_matrix.html\n",
    "\n",
    "prediction=clf.predict(final_X_test)\n",
    "skplt.plot_confusion_matrix(y_test ,prediction)"
   ]
  },
  {
   "cell_type": "markdown",
   "metadata": {
    "colab_type": "text",
    "id": "PnwVzXytiWO7"
   },
   "source": [
    "## [5.4] Applying Decision Trees on TFIDF W2V,<font color='red'> SET 4</font>"
   ]
  },
  {
   "cell_type": "code",
   "execution_count": 61,
   "metadata": {
    "colab": {},
    "colab_type": "code",
    "id": "YqODkVCgiWO7"
   },
   "outputs": [
    {
     "name": "stderr",
     "output_type": "stream",
     "text": [
      "100%|███████████████████████████████████| 43008/43008 [04:33<00:00, 157.38it/s]\n",
      "100%|███████████████████████████████████| 18433/18433 [01:55<00:00, 160.24it/s]\n",
      "100%|███████████████████████████████████| 26332/26332 [02:50<00:00, 154.43it/s]\n"
     ]
    }
   ],
   "source": [
    "# TF-IDF weighted Word2Vec\n",
    "tfidf_feat = model.get_feature_names() # tfidf words/col-names\n",
    "# final_tf_idf is the sparse matrix with row= sentence, col=word and cell_val = tfidf\n",
    "\n",
    "list_of_sentance_tr=[]\n",
    "for sentance in X_tr:\n",
    "    list_of_sentance_tr.append(sentance.split())\n",
    "final_X_tr = []; # the tfidf-w2v for each sentence/review is stored in this list\n",
    "row=0;\n",
    "for sent in tqdm(list_of_sentance_tr): # for each review/sentence \n",
    "    sent_vec = np.zeros(50) # as word vectors are of zero length\n",
    "    weight_sum =0; # num of words with a valid vector in the sentence/review\n",
    "    for word in sent: # for each word in a review/sentence\n",
    "        if word in w2v_words and word in tfidf_feat:\n",
    "            vec = w2v_model.wv[word]\n",
    "#             tf_idf = tf_idf_matrix[row, tfidf_feat.index(word)]\n",
    "            # to reduce the computation we are \n",
    "            # dictionary[word] = idf value of word in whole courpus\n",
    "            # sent.count(word) = tf valeus of word in this review\n",
    "            tf_idf = dictionary[word]*(sent.count(word)/len(sent))\n",
    "            sent_vec += (vec * tf_idf)\n",
    "            weight_sum += tf_idf\n",
    "    if weight_sum != 0:\n",
    "        sent_vec /= weight_sum\n",
    "    final_X_tr.append(sent_vec)\n",
    "    row += 1\n",
    "\n",
    "    \n",
    "list_of_sentance_cv=[]\n",
    "for sentance in X_cv:\n",
    "    list_of_sentance_cv.append(sentance.split())\n",
    "final_X_cv = []; # the tfidf-w2v for each sentence/review is stored in this list\n",
    "row=0;\n",
    "for sent in tqdm(list_of_sentance_cv): # for each review/sentence \n",
    "    sent_vec = np.zeros(50) # as word vectors are of zero length\n",
    "    weight_sum =0; # num of words with a valid vector in the sentence/review\n",
    "    for word in sent: # for each word in a review/sentence\n",
    "        if word in w2v_words and word in tfidf_feat:\n",
    "            vec = w2v_model.wv[word]\n",
    "#             tf_idf = tf_idf_matrix[row, tfidf_feat.index(word)]\n",
    "            # to reduce the computation we are \n",
    "            # dictionary[word] = idf value of word in whole courpus\n",
    "            # sent.count(word) = tf valeus of word in this review\n",
    "            tf_idf = dictionary[word]*(sent.count(word)/len(sent))\n",
    "            sent_vec += (vec * tf_idf)\n",
    "            weight_sum += tf_idf\n",
    "    if weight_sum != 0:\n",
    "        sent_vec /= weight_sum\n",
    "    final_X_cv.append(sent_vec)\n",
    "    row += 1 \n",
    "    \n",
    "    \n",
    "list_of_sentance_test=[]\n",
    "for sentance in X_test:\n",
    "    list_of_sentance_test.append(sentance.split())\n",
    "final_X_test = []; # the tfidf-w2v for each sentence/review is stored in this list\n",
    "row=0;\n",
    "for sent in tqdm(list_of_sentance_test): # for each review/sentence \n",
    "    sent_vec = np.zeros(50) # as word vectors are of zero length\n",
    "    weight_sum =0; # num of words with a valid vector in the sentence/review\n",
    "    for word in sent: # for each word in a review/sentence\n",
    "        if word in w2v_words and word in tfidf_feat:\n",
    "            vec = w2v_model.wv[word]\n",
    "#             tf_idf = tf_idf_matrix[row, tfidf_feat.index(word)]\n",
    "            # to reduce the computation we are \n",
    "            # dictionary[word] = idf value of word in whole courpus\n",
    "            # sent.count(word) = tf valeus of word in this review\n",
    "            tf_idf = dictionary[word]*(sent.count(word)/len(sent))\n",
    "            sent_vec += (vec * tf_idf)\n",
    "            weight_sum += tf_idf\n",
    "    if weight_sum != 0:\n",
    "        sent_vec /= weight_sum\n",
    "    final_X_test.append(sent_vec)\n",
    "    row += 1"
   ]
  },
  {
   "cell_type": "code",
   "execution_count": 62,
   "metadata": {},
   "outputs": [
    {
     "name": "stdout",
     "output_type": "stream",
     "text": [
      "10\n",
      "500\n"
     ]
    }
   ],
   "source": [
    "#Calculating for finding best min_splits and best depth   \n",
    "#predic_proba reference:\n",
    "#https://stackoverflow.com/questions/37089177/probability-prediction-method-of-kneighborsclassifier-returns-only-0-and-1\n",
    "#https://discuss.analyticsvidhya.com/t/what-is-the-difference-between-predict-and-predict-proba/67376/3\n",
    "roc_tr=[]\n",
    "roc_cv=[]\n",
    "best_m=[]\n",
    "max_auc_score=0\n",
    "best_min_splits=0\n",
    "best_depth=0\n",
    "depths=[1,5,10,50,100,500,1000]\n",
    "min_samples_split=[5,10,100,500]\n",
    "for d in depths:\n",
    "    for m in min_samples_split:\n",
    "        \n",
    "        clf=DecisionTreeClassifier(max_depth=d,min_samples_split=m,class_weight='balanced')\n",
    "        # fitting the model on train data\n",
    "        clf.fit(final_X_tr,y_tr)\n",
    "        \n",
    "        # predict the response on the training data \n",
    "        pred_tr = clf.predict_proba(final_X_cv)\n",
    "        pred_tr=(pred_tr)[:,1]\n",
    "        roc_auc_score(y_cv,pred_tr)\n",
    "        \n",
    "        # predict the response on the crossvalidation \n",
    "        pred_cv = clf.predict_proba(final_X_cv)\n",
    "        pred_cv=(pred_cv)[:,1]\n",
    "        roc_auc_score(y_cv,pred_cv)\n",
    "        \n",
    "        if roc_auc_score(y_cv,pred_cv)>max_auc_score:\n",
    "            best_min_splits=m\n",
    "            max_auc_score=roc_auc_score(y_cv,pred_cv)      \n",
    "    clf=DecisionTreeClassifier(max_depth=d,min_samples_split=best_min_splits,class_weight='balanced')\n",
    "    # fitting the model on train data\n",
    "    clf.fit(final_X_tr,y_tr)\n",
    "    \n",
    "    # predict the response on the traininig\n",
    "    pred_tr = clf.predict_proba(final_X_tr)\n",
    "    pred_tr=(pred_tr)[:,1]\n",
    "    roc_tr.append(roc_auc_score(y_tr,pred_tr))\n",
    "    best_m.append(best_min_splits)\n",
    "   \n",
    "    # predict the response on the crossvalidation \n",
    "    pred_cv = clf.predict_proba(final_X_cv)\n",
    "    pred_cv=(pred_cv)[:,1]\n",
    "    roc_cv.append(roc_auc_score(y_cv,pred_cv))    \n",
    "\n",
    "    \n",
    "best_depth= depths[roc_cv.index(max(roc_cv))]\n",
    "best_min_samples_split=best_m[roc_cv.index(max(roc_cv))]\n",
    "print(best_depth)\n",
    "print(best_min_samples_split)\n",
    "best_depth_tfidfw2v=best_depth\n",
    "best_min_samples_split_tfidfw2v=best_min_samples_split"
   ]
  },
  {
   "cell_type": "code",
   "execution_count": 63,
   "metadata": {
    "scrolled": true
   },
   "outputs": [
    {
     "data": {
      "image/png": "[encoded data removed]",
      "text/plain": [
       "<Figure size 432x288 with 1 Axes>"
      ]
     },
     "metadata": {
      "needs_background": "light"
     },
     "output_type": "display_data"
    }
   ],
   "source": [
    "# plotting curve between between AUC of cv and train\n",
    "plt.plot(depths,roc_tr,label=\"AUC-train\")\n",
    "plt.plot(depths,roc_cv ,label=\"AUC-cv\")\n",
    "plt.legend()\n",
    "plt.xlabel('depths')\n",
    "plt.ylabel('AUC')\n",
    "plt.title('AUC Score vs depths')\n",
    "plt.show()"
   ]
  },
  {
   "cell_type": "code",
   "execution_count": 64,
   "metadata": {},
   "outputs": [],
   "source": [
    "roc_tr_minsplits=[]\n",
    "roc_cv_minsplits=[]\n",
    "max_auc_score=0\n",
    "best_depth=0\n",
    "for m in min_samples_split:\n",
    "    for d in depths:\n",
    "      \n",
    "        clf=DecisionTreeClassifier(max_depth=d,min_samples_split=m,class_weight='balanced')\n",
    "        # fitting the model on train data\n",
    "        clf.fit(final_X_tr,y_tr)\n",
    "        \n",
    "        # predict the response on the training data \n",
    "        pred_tr = clf.predict_proba(final_X_cv)\n",
    "        pred_tr=(pred_tr)[:,1]\n",
    "        roc_auc_score(y_cv,pred_tr)\n",
    "        \n",
    "        # predict the response on the crossvalidation \n",
    "        pred_cv = clf.predict_proba(final_X_cv)\n",
    "        pred_cv=(pred_cv)[:,1]\n",
    "        roc_auc_score(y_cv,pred_cv)\n",
    "        \n",
    "        if roc_auc_score(y_cv,pred_cv)>max_auc_score:\n",
    "            best_depth=d\n",
    "            max_auc_score=roc_auc_score(y_cv,pred_cv)      \n",
    "    clf=DecisionTreeClassifier(max_depth=best_depth,min_samples_split=m,class_weight='balanced')\n",
    "    # fitting the model on train data\n",
    "    clf.fit(final_X_tr,y_tr)\n",
    "    \n",
    "    # predict the response on the traininig\n",
    "    pred_tr = clf.predict_proba(final_X_tr)\n",
    "    pred_tr=(pred_tr)[:,1]\n",
    "    roc_tr_minsplits.append(roc_auc_score(y_tr,pred_tr))\n",
    "    best_m.append(best_min_splits)\n",
    "   \n",
    "    # predict the response on the crossvalidation \n",
    "    pred_cv = clf.predict_proba(final_X_cv)\n",
    "    pred_cv=(pred_cv)[:,1]\n",
    "    roc_cv_minsplits.append(roc_auc_score(y_cv,pred_cv))\n"
   ]
  },
  {
   "cell_type": "code",
   "execution_count": 65,
   "metadata": {},
   "outputs": [
    {
     "data": {
      "image/png": "[encoded data removed]",
      "text/plain": [
       "<Figure size 432x288 with 1 Axes>"
      ]
     },
     "metadata": {
      "needs_background": "light"
     },
     "output_type": "display_data"
    }
   ],
   "source": [
    "# plotting curve between between AUC of cv and train\n",
    "plt.plot(min_samples_split,roc_tr_minsplits,label=\"AUC-train\")\n",
    "plt.plot(min_samples_split,roc_cv_minsplits ,label=\"AUC-cv\")\n",
    "plt.legend()\n",
    "plt.xlabel('min_splits')\n",
    "plt.ylabel('AUC')\n",
    "plt.title('AUC Score VS min_splits')\n",
    "plt.show()"
   ]
  },
  {
   "cell_type": "code",
   "execution_count": 66,
   "metadata": {},
   "outputs": [
    {
     "data": {
      "image/png": "[encoded data removed]",
      "text/plain": [
       "<Figure size 432x288 with 1 Axes>"
      ]
     },
     "metadata": {
      "needs_background": "light"
     },
     "output_type": "display_data"
    }
   ],
   "source": [
    "#1)Training the model using best min_splits and best depth   \n",
    "clf=DecisionTreeClassifier(max_depth=best_depth_bow,min_samples_split=best_min_samples_split_bow,class_weight='balanced')\n",
    "# fitting the model on train data\n",
    "clf.fit(final_X_tr,y_tr)\n",
    "#predicting probablity of success Training data\n",
    "pred_tr = clf.predict_proba(final_X_tr)\n",
    "pred_tr=(pred_tr)[:,1]\n",
    "#predicting probability of success on Test data\n",
    "pred_test = clf.predict_proba(final_X_test)\n",
    "pred_test=(pred_test)[:,1]\n",
    "\n",
    "#2)Plotting Roc Curve\n",
    "#Reference for finding fpr an tpr :\n",
    "#https://www.programcreek.com/python/example/81207/sklearn.metrics.roc_curve\n",
    "fpr_tr, tpr_tr, threshold_train = metrics.roc_curve(y_tr, pred_tr)\n",
    "fpr_test, tpr_test, threshold_test = metrics.roc_curve(y_test, pred_test)\n",
    "auc_tfidfw2v=roc_auc_score(y_test,pred_test)\n",
    "plt.plot(fpr_test,tpr_test ,label='ROC on on Test data ,auc='+str(roc_auc_score(y_test,pred_test)))\n",
    "plt.plot(fpr_tr,tpr_tr ,label='ROC on on Train data ,auc='+str(roc_auc_score(y_tr,pred_tr)))\n",
    "plt.legend()\n",
    "plt.title('ROC on best depth and min_splits')\n",
    "plt.xlabel('FPR')\n",
    "plt.ylabel('TPR')\n",
    "plt.show()"
   ]
  },
  {
   "cell_type": "code",
   "execution_count": 67,
   "metadata": {},
   "outputs": [
    {
     "data": {
      "text/plain": [
       "<matplotlib.axes._subplots.AxesSubplot at 0x263b501668>"
      ]
     },
     "execution_count": 67,
     "metadata": {},
     "output_type": "execute_result"
    },
    {
     "data": {
      "image/png": "[encoded data removed]",
      "text/plain": [
       "<Figure size 432x288 with 2 Axes>"
      ]
     },
     "metadata": {
      "needs_background": "light"
     },
     "output_type": "display_data"
    }
   ],
   "source": [
    "#plotting the confusion matrix\n",
    "#Reference:\n",
    "#https://scikit-learn.org/stable/modules/generated/sklearn.metrics.confusion_matrix.html\n",
    "\n",
    "prediction=clf.predict(final_X_test)\n",
    "skplt.plot_confusion_matrix(y_test ,prediction)"
   ]
  },
  {
   "cell_type": "markdown",
   "metadata": {
    "colab_type": "text",
    "id": "Em-rF6u2iWO8"
   },
   "source": [
    "# [6] Conclusions"
   ]
  },
  {
   "cell_type": "code",
   "execution_count": 69,
   "metadata": {},
   "outputs": [
    {
     "name": "stdout",
     "output_type": "stream",
     "text": [
      "+------------+------------------------+------------------------------------+--------------------+\n",
      "| Vectorizer | Hyperameter-best_depth | Hyperameter-best_min_samples_split |        AUC         |\n",
      "+------------+------------------------+------------------------------------+--------------------+\n",
      "|    BOW     |          100           |                500                 | 0.806645470784561  |\n",
      "|   TFIDF    |           50           |                500                 | 0.8017428662160633 |\n",
      "|   AwgW2V   |           10           |                500                 | 0.8296901940881871 |\n",
      "| TFIDF-W2V  |           10           |                500                 | 0.8064626354498765 |\n",
      "+------------+------------------------+------------------------------------+--------------------+\n"
     ]
    }
   ],
   "source": [
    "## Please compare all your models using Prettytable library\n",
    "from prettytable import PrettyTable    \n",
    "x = PrettyTable()\n",
    "x.field_names = [\"Vectorizer\", \"Hyperameter-best_depth\",\"Hyperameter-best_min_samples_split\",\"AUC\"]\n",
    "x.add_row([\"BOW\",best_depth_bow,best_min_samples_split_bow,auc_bow])\n",
    "x.add_row([\"TFIDF\",best_depth_tfidf,best_min_samples_split_tfidf,auc_tfidf])\n",
    "x.add_row([\"AwgW2V\",best_depth_avgw2v,best_min_samples_split_tfidfw2v,auc_avgw2v])\n",
    "x.add_row([\"TFIDF-W2V\",best_depth_tfidfw2v,best_min_samples_split_tfidfw2v,auc_tfidfw2v])\n",
    "print(x)"
   ]
  }
 ],
 "metadata": {
  "colab": {
   "collapsed_sections": [
    "NTwQITJKiWN5",
    "T_LFck8iiWOX",
    "mjfrB76yiWOa",
    "0tcbbZxSiWOd",
    "u566lt93iWOf",
    "mUNnof40iWOl",
    "heHLB_FCiWOm",
    "ylTn3LgiiWOo",
    "NVhl_V6MiWO5",
    "PnwVzXytiWO7"
   ],
   "name": "08 Amazon Fine Food Reviews Analysis_Decision Trees.ipynb",
   "provenance": [],
   "version": "0.3.2"
  },
  "kernelspec": {
   "display_name": "Python 3",
   "language": "python",
   "name": "python3"
  },
  "language_info": {
   "codemirror_mode": {
    "name": "ipython",
    "version": 3
   },
   "file_extension": ".py",
   "mimetype": "text/x-python",
   "name": "python",
   "nbconvert_exporter": "python",
   "pygments_lexer": "ipython3",
   "version": "3.7.3"
  }
 },
 "nbformat": 4,
 "nbformat_minor": 1
}
